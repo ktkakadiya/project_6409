{
  "cells": [
    {
      "cell_type": "markdown",
      "metadata": {
        "id": "3swiValoUu5U"
      },
      "source": [
        "<center><h1><center>CSCI - 4146 - The Process of Data Science - Summer 2022</h1></center>\n",
        "<h1><center>Project - Group 7</h1></center>\n",
        "<h2><center>Superstore - Sales Analysis and Prediction</h2></center></center>\n",
        "\n",
        "\n",
        "<br/>\n",
        "<br/>\n",
        "\n",
        "<b>Kartik Kakadiya</b>  \n",
        "(ID: B00901642)\n",
        "\n",
        "\n",
        "<b>Krishnateja Vemula</b>  \n",
        "(ID: B00880866)  "
      ]
    },
    {
      "cell_type": "markdown",
      "source": [
        "# Initializations"
      ],
      "metadata": {
        "id": "ydmjRbGov948"
      }
    },
    {
      "cell_type": "markdown",
      "metadata": {
        "id": "lWjuUiNDMCme"
      },
      "source": [
        "Here are all the packages we used :"
      ]
    },
    {
      "cell_type": "code",
      "execution_count": 1,
      "metadata": {
        "id": "Xl-LLLkHqIGE",
        "colab": {
          "base_uri": "https://localhost:8080/"
        },
        "outputId": "c42495f1-364e-4c45-be8e-1593ff2733ed"
      },
      "outputs": [
        {
          "output_type": "stream",
          "name": "stderr",
          "text": [
            "/usr/local/lib/python3.7/dist-packages/statsmodels/tools/_testing.py:19: FutureWarning: pandas.util.testing is deprecated. Use the functions in the public API at pandas.testing instead.\n",
            "  import pandas.util.testing as tm\n"
          ]
        }
      ],
      "source": [
        "# Imports\n",
        "import pandas as pd\n",
        "import numpy as np\n",
        "import warnings\n",
        "import seaborn as sns\n",
        "import matplotlib.pyplot as plt\n",
        "\n",
        "from sklearn.model_selection import train_test_split\n",
        "from sklearn.preprocessing import StandardScaler\n",
        "from sklearn.preprocessing import MinMaxScaler\n",
        "from sklearn.ensemble import RandomForestRegressor\n",
        "from sklearn.linear_model import LinearRegression\n",
        "from sklearn.linear_model import Ridge\n",
        "from sklearn.metrics import mean_squared_error\n",
        "from sklearn.metrics import r2_score\n",
        "from sklearn.model_selection import cross_val_score\n",
        "from sklearn.model_selection import learning_curve\n",
        "from scipy.stats import ks_2samp\n",
        "\n",
        "import itertools\n",
        "import statsmodels.api as sm\n",
        "from math import sqrt"
      ]
    },
    {
      "cell_type": "markdown",
      "source": [
        "Below are the packages that have been installed for the project,"
      ],
      "metadata": {
        "id": "RpjLG7O4pmVP"
      }
    },
    {
      "cell_type": "code",
      "source": [
        "!pip install mlxtend==0.17.0 --upgrade\n",
        "!pip install apyori"
      ],
      "metadata": {
        "colab": {
          "base_uri": "https://localhost:8080/"
        },
        "id": "immU_dv3lEIn",
        "outputId": "63cf52fb-d4ef-48a0-fa7e-14a460022d63"
      },
      "execution_count": 2,
      "outputs": [
        {
          "output_type": "stream",
          "name": "stdout",
          "text": [
            "Looking in indexes: https://pypi.org/simple, https://us-python.pkg.dev/colab-wheels/public/simple/\n",
            "Collecting mlxtend==0.17.0\n",
            "  Downloading mlxtend-0.17.0-py2.py3-none-any.whl (1.3 MB)\n",
            "\u001b[K     |████████████████████████████████| 1.3 MB 5.4 MB/s \n",
            "\u001b[?25hRequirement already satisfied: setuptools in /usr/local/lib/python3.7/dist-packages (from mlxtend==0.17.0) (57.4.0)\n",
            "Requirement already satisfied: numpy>=1.16.2 in /usr/local/lib/python3.7/dist-packages (from mlxtend==0.17.0) (1.21.6)\n",
            "Requirement already satisfied: pandas>=0.24.2 in /usr/local/lib/python3.7/dist-packages (from mlxtend==0.17.0) (1.3.5)\n",
            "Requirement already satisfied: scikit-learn>=0.20.3 in /usr/local/lib/python3.7/dist-packages (from mlxtend==0.17.0) (1.0.2)\n",
            "Requirement already satisfied: joblib>=0.13.2 in /usr/local/lib/python3.7/dist-packages (from mlxtend==0.17.0) (1.1.0)\n",
            "Requirement already satisfied: matplotlib>=3.0.0 in /usr/local/lib/python3.7/dist-packages (from mlxtend==0.17.0) (3.2.2)\n",
            "Requirement already satisfied: scipy>=1.2.1 in /usr/local/lib/python3.7/dist-packages (from mlxtend==0.17.0) (1.7.3)\n",
            "Requirement already satisfied: cycler>=0.10 in /usr/local/lib/python3.7/dist-packages (from matplotlib>=3.0.0->mlxtend==0.17.0) (0.11.0)\n",
            "Requirement already satisfied: kiwisolver>=1.0.1 in /usr/local/lib/python3.7/dist-packages (from matplotlib>=3.0.0->mlxtend==0.17.0) (1.4.4)\n",
            "Requirement already satisfied: python-dateutil>=2.1 in /usr/local/lib/python3.7/dist-packages (from matplotlib>=3.0.0->mlxtend==0.17.0) (2.8.2)\n",
            "Requirement already satisfied: pyparsing!=2.0.4,!=2.1.2,!=2.1.6,>=2.0.1 in /usr/local/lib/python3.7/dist-packages (from matplotlib>=3.0.0->mlxtend==0.17.0) (3.0.9)\n",
            "Requirement already satisfied: typing-extensions in /usr/local/lib/python3.7/dist-packages (from kiwisolver>=1.0.1->matplotlib>=3.0.0->mlxtend==0.17.0) (4.1.1)\n",
            "Requirement already satisfied: pytz>=2017.3 in /usr/local/lib/python3.7/dist-packages (from pandas>=0.24.2->mlxtend==0.17.0) (2022.1)\n",
            "Requirement already satisfied: six>=1.5 in /usr/local/lib/python3.7/dist-packages (from python-dateutil>=2.1->matplotlib>=3.0.0->mlxtend==0.17.0) (1.15.0)\n",
            "Requirement already satisfied: threadpoolctl>=2.0.0 in /usr/local/lib/python3.7/dist-packages (from scikit-learn>=0.20.3->mlxtend==0.17.0) (3.1.0)\n",
            "Installing collected packages: mlxtend\n",
            "  Attempting uninstall: mlxtend\n",
            "    Found existing installation: mlxtend 0.14.0\n",
            "    Uninstalling mlxtend-0.14.0:\n",
            "      Successfully uninstalled mlxtend-0.14.0\n",
            "Successfully installed mlxtend-0.17.0\n",
            "Looking in indexes: https://pypi.org/simple, https://us-python.pkg.dev/colab-wheels/public/simple/\n",
            "Collecting apyori\n",
            "  Downloading apyori-1.1.2.tar.gz (8.6 kB)\n",
            "Building wheels for collected packages: apyori\n",
            "  Building wheel for apyori (setup.py) ... \u001b[?25l\u001b[?25hdone\n",
            "  Created wheel for apyori: filename=apyori-1.1.2-py3-none-any.whl size=5974 sha256=ab535fd27f17cbf1ca44cd58ec1c783b4c8e1da209a169cfe12b6828eebc49ef\n",
            "  Stored in directory: /root/.cache/pip/wheels/cb/f6/e1/57973c631d27efd1a2f375bd6a83b2a616c4021f24aab84080\n",
            "Successfully built apyori\n",
            "Installing collected packages: apyori\n",
            "Successfully installed apyori-1.1.2\n"
          ]
        }
      ]
    },
    {
      "cell_type": "markdown",
      "source": [
        "Below are the imports from the downloaded packages,"
      ],
      "metadata": {
        "id": "V157oYupqJJL"
      }
    },
    {
      "cell_type": "code",
      "source": [
        "from apyori import apriori\n",
        "from mlxtend.frequent_patterns import fpgrowth\n",
        "from mlxtend.frequent_patterns import association_rules\n",
        "from mlxtend.preprocessing import TransactionEncoder"
      ],
      "metadata": {
        "id": "7zNaLBIiR8oP"
      },
      "execution_count": 3,
      "outputs": []
    },
    {
      "cell_type": "markdown",
      "source": [
        "## Configurations"
      ],
      "metadata": {
        "id": "aACeoSCPv6QH"
      }
    },
    {
      "cell_type": "markdown",
      "source": [
        "For the objective of improving the outcomes we showed, we disregarded the warning (This has been done at the end of the project)."
      ],
      "metadata": {
        "id": "GU4_le7OqWYE"
      }
    },
    {
      "cell_type": "code",
      "execution_count": 4,
      "metadata": {
        "id": "liZgHcubv55-"
      },
      "outputs": [],
      "source": [
        "warnings.filterwarnings('ignore')"
      ]
    },
    {
      "cell_type": "markdown",
      "source": [
        "Set style for our plots as 'whitegrid'."
      ],
      "metadata": {
        "id": "bgNwkAv_wL5j"
      }
    },
    {
      "cell_type": "code",
      "source": [
        "sns.set_style(\"whitegrid\")"
      ],
      "metadata": {
        "id": "_Du9AqzNv2qs"
      },
      "execution_count": 5,
      "outputs": []
    },
    {
      "cell_type": "markdown",
      "metadata": {
        "id": "dm4068tkVkZ4"
      },
      "source": [
        "# Part 1 : Data Understanding and Preprocessing<a id='top'></a>\n",
        "\n"
      ]
    },
    {
      "cell_type": "markdown",
      "source": [
        "To begin processing, we first import our dataset,"
      ],
      "metadata": {
        "id": "cXQW46K3q4Ff"
      }
    },
    {
      "cell_type": "code",
      "execution_count": 6,
      "metadata": {
        "id": "qSMxbAYO3qN5"
      },
      "outputs": [],
      "source": [
        "# Loading dataset\n",
        "DATASET_URL = \"https://raw.githubusercontent.com/ktkakadiya/project_6409_group_7/main/dataset/superstore_dataset2011-2015.csv\"\n",
        "dataset = pd.read_csv(DATASET_URL, encoding='latin-1')"
      ]
    },
    {
      "cell_type": "code",
      "execution_count": 7,
      "metadata": {
        "id": "ZyCM8uO-37Mp"
      },
      "outputs": [],
      "source": [
        "# Convert columns to dtypes\n",
        "dataset = dataset.convert_dtypes()"
      ]
    },
    {
      "cell_type": "markdown",
      "source": [
        "Here, we disply information about each of the columns in our dataset so that you may better understand it."
      ],
      "metadata": {
        "id": "HGpvadZ0rNrA"
      }
    },
    {
      "cell_type": "code",
      "execution_count": 8,
      "metadata": {
        "colab": {
          "base_uri": "https://localhost:8080/"
        },
        "id": "7e_q4QoS39e3",
        "outputId": "b231ff8c-7237-46e9-c4c8-b6c760a75cd2"
      },
      "outputs": [
        {
          "output_type": "stream",
          "name": "stdout",
          "text": [
            "<class 'pandas.core.frame.DataFrame'>\n",
            "RangeIndex: 51290 entries, 0 to 51289\n",
            "Data columns (total 24 columns):\n",
            " #   Column          Non-Null Count  Dtype  \n",
            "---  ------          --------------  -----  \n",
            " 0   Row ID          51290 non-null  Int64  \n",
            " 1   Order ID        51290 non-null  string \n",
            " 2   Order Date      51290 non-null  string \n",
            " 3   Ship Date       51290 non-null  string \n",
            " 4   Ship Mode       51290 non-null  string \n",
            " 5   Customer ID     51290 non-null  string \n",
            " 6   Customer Name   51290 non-null  string \n",
            " 7   Segment         51290 non-null  string \n",
            " 8   City            51290 non-null  string \n",
            " 9   State           51290 non-null  string \n",
            " 10  Country         51290 non-null  string \n",
            " 11  Postal Code     9994 non-null   Int64  \n",
            " 12  Market          51290 non-null  string \n",
            " 13  Region          51290 non-null  string \n",
            " 14  Product ID      51290 non-null  string \n",
            " 15  Category        51290 non-null  string \n",
            " 16  Sub-Category    51290 non-null  string \n",
            " 17  Product Name    51290 non-null  string \n",
            " 18  Sales           51290 non-null  Float64\n",
            " 19  Quantity        51290 non-null  Int64  \n",
            " 20  Discount        51290 non-null  Float64\n",
            " 21  Profit          51290 non-null  Float64\n",
            " 22  Shipping Cost   51290 non-null  Float64\n",
            " 23  Order Priority  51290 non-null  string \n",
            "dtypes: Float64(4), Int64(3), string(17)\n",
            "memory usage: 9.7 MB\n"
          ]
        }
      ],
      "source": [
        "# Print dataset information\n",
        "dataset.info()"
      ]
    },
    {
      "cell_type": "markdown",
      "source": [
        "To better understand our dataset, we also print some of the records."
      ],
      "metadata": {
        "id": "IN4cqSk1r1eX"
      }
    },
    {
      "cell_type": "code",
      "execution_count": 9,
      "metadata": {
        "colab": {
          "base_uri": "https://localhost:8080/",
          "height": 393
        },
        "id": "RtyYkiSaAB9M",
        "outputId": "f16e0826-7b00-4e7b-cac1-6d93ab5d891a"
      },
      "outputs": [
        {
          "output_type": "execute_result",
          "data": {
            "text/plain": [
              "   Row ID       Order ID Order Date Ship Date       Ship Mode Customer ID  \\\n",
              "0   42433   AG-2011-2040   1/1/2011  6/1/2011  Standard Class    TB-11280   \n",
              "1   22253  IN-2011-47883   1/1/2011  8/1/2011  Standard Class    JH-15985   \n",
              "2   48883   HU-2011-1220   1/1/2011  5/1/2011    Second Class      AT-735   \n",
              "\n",
              "     Customer Name   Segment         City            State  ...  \\\n",
              "0  Toby Braunhardt  Consumer  Constantine      Constantine  ...   \n",
              "1      Joseph Holt  Consumer  Wagga Wagga  New South Wales  ...   \n",
              "2    Annie Thurman  Consumer     Budapest         Budapest  ...   \n",
              "\n",
              "         Product ID         Category Sub-Category              Product Name  \\\n",
              "0  OFF-TEN-10000025  Office Supplies      Storage       Tenex Lockers, Blue   \n",
              "1   OFF-SU-10000618  Office Supplies     Supplies  Acme Trimmer, High Speed   \n",
              "2  OFF-TEN-10001585  Office Supplies      Storage   Tenex Box, Single Width   \n",
              "\n",
              "     Sales Quantity Discount  Profit  Shipping Cost  Order Priority  \n",
              "0    408.3        2      0.0  106.14          35.46          Medium  \n",
              "1  120.366        3      0.1  36.036           9.72          Medium  \n",
              "2    66.12        4      0.0   29.64           8.17            High  \n",
              "\n",
              "[3 rows x 24 columns]"
            ],
            "text/html": [
              "\n",
              "  <div id=\"df-f49ed973-46cc-4638-a4c0-eee3a649967c\">\n",
              "    <div class=\"colab-df-container\">\n",
              "      <div>\n",
              "<style scoped>\n",
              "    .dataframe tbody tr th:only-of-type {\n",
              "        vertical-align: middle;\n",
              "    }\n",
              "\n",
              "    .dataframe tbody tr th {\n",
              "        vertical-align: top;\n",
              "    }\n",
              "\n",
              "    .dataframe thead th {\n",
              "        text-align: right;\n",
              "    }\n",
              "</style>\n",
              "<table border=\"1\" class=\"dataframe\">\n",
              "  <thead>\n",
              "    <tr style=\"text-align: right;\">\n",
              "      <th></th>\n",
              "      <th>Row ID</th>\n",
              "      <th>Order ID</th>\n",
              "      <th>Order Date</th>\n",
              "      <th>Ship Date</th>\n",
              "      <th>Ship Mode</th>\n",
              "      <th>Customer ID</th>\n",
              "      <th>Customer Name</th>\n",
              "      <th>Segment</th>\n",
              "      <th>City</th>\n",
              "      <th>State</th>\n",
              "      <th>...</th>\n",
              "      <th>Product ID</th>\n",
              "      <th>Category</th>\n",
              "      <th>Sub-Category</th>\n",
              "      <th>Product Name</th>\n",
              "      <th>Sales</th>\n",
              "      <th>Quantity</th>\n",
              "      <th>Discount</th>\n",
              "      <th>Profit</th>\n",
              "      <th>Shipping Cost</th>\n",
              "      <th>Order Priority</th>\n",
              "    </tr>\n",
              "  </thead>\n",
              "  <tbody>\n",
              "    <tr>\n",
              "      <th>0</th>\n",
              "      <td>42433</td>\n",
              "      <td>AG-2011-2040</td>\n",
              "      <td>1/1/2011</td>\n",
              "      <td>6/1/2011</td>\n",
              "      <td>Standard Class</td>\n",
              "      <td>TB-11280</td>\n",
              "      <td>Toby Braunhardt</td>\n",
              "      <td>Consumer</td>\n",
              "      <td>Constantine</td>\n",
              "      <td>Constantine</td>\n",
              "      <td>...</td>\n",
              "      <td>OFF-TEN-10000025</td>\n",
              "      <td>Office Supplies</td>\n",
              "      <td>Storage</td>\n",
              "      <td>Tenex Lockers, Blue</td>\n",
              "      <td>408.3</td>\n",
              "      <td>2</td>\n",
              "      <td>0.0</td>\n",
              "      <td>106.14</td>\n",
              "      <td>35.46</td>\n",
              "      <td>Medium</td>\n",
              "    </tr>\n",
              "    <tr>\n",
              "      <th>1</th>\n",
              "      <td>22253</td>\n",
              "      <td>IN-2011-47883</td>\n",
              "      <td>1/1/2011</td>\n",
              "      <td>8/1/2011</td>\n",
              "      <td>Standard Class</td>\n",
              "      <td>JH-15985</td>\n",
              "      <td>Joseph Holt</td>\n",
              "      <td>Consumer</td>\n",
              "      <td>Wagga Wagga</td>\n",
              "      <td>New South Wales</td>\n",
              "      <td>...</td>\n",
              "      <td>OFF-SU-10000618</td>\n",
              "      <td>Office Supplies</td>\n",
              "      <td>Supplies</td>\n",
              "      <td>Acme Trimmer, High Speed</td>\n",
              "      <td>120.366</td>\n",
              "      <td>3</td>\n",
              "      <td>0.1</td>\n",
              "      <td>36.036</td>\n",
              "      <td>9.72</td>\n",
              "      <td>Medium</td>\n",
              "    </tr>\n",
              "    <tr>\n",
              "      <th>2</th>\n",
              "      <td>48883</td>\n",
              "      <td>HU-2011-1220</td>\n",
              "      <td>1/1/2011</td>\n",
              "      <td>5/1/2011</td>\n",
              "      <td>Second Class</td>\n",
              "      <td>AT-735</td>\n",
              "      <td>Annie Thurman</td>\n",
              "      <td>Consumer</td>\n",
              "      <td>Budapest</td>\n",
              "      <td>Budapest</td>\n",
              "      <td>...</td>\n",
              "      <td>OFF-TEN-10001585</td>\n",
              "      <td>Office Supplies</td>\n",
              "      <td>Storage</td>\n",
              "      <td>Tenex Box, Single Width</td>\n",
              "      <td>66.12</td>\n",
              "      <td>4</td>\n",
              "      <td>0.0</td>\n",
              "      <td>29.64</td>\n",
              "      <td>8.17</td>\n",
              "      <td>High</td>\n",
              "    </tr>\n",
              "  </tbody>\n",
              "</table>\n",
              "<p>3 rows × 24 columns</p>\n",
              "</div>\n",
              "      <button class=\"colab-df-convert\" onclick=\"convertToInteractive('df-f49ed973-46cc-4638-a4c0-eee3a649967c')\"\n",
              "              title=\"Convert this dataframe to an interactive table.\"\n",
              "              style=\"display:none;\">\n",
              "        \n",
              "  <svg xmlns=\"http://www.w3.org/2000/svg\" height=\"24px\"viewBox=\"0 0 24 24\"\n",
              "       width=\"24px\">\n",
              "    <path d=\"M0 0h24v24H0V0z\" fill=\"none\"/>\n",
              "    <path d=\"M18.56 5.44l.94 2.06.94-2.06 2.06-.94-2.06-.94-.94-2.06-.94 2.06-2.06.94zm-11 1L8.5 8.5l.94-2.06 2.06-.94-2.06-.94L8.5 2.5l-.94 2.06-2.06.94zm10 10l.94 2.06.94-2.06 2.06-.94-2.06-.94-.94-2.06-.94 2.06-2.06.94z\"/><path d=\"M17.41 7.96l-1.37-1.37c-.4-.4-.92-.59-1.43-.59-.52 0-1.04.2-1.43.59L10.3 9.45l-7.72 7.72c-.78.78-.78 2.05 0 2.83L4 21.41c.39.39.9.59 1.41.59.51 0 1.02-.2 1.41-.59l7.78-7.78 2.81-2.81c.8-.78.8-2.07 0-2.86zM5.41 20L4 18.59l7.72-7.72 1.47 1.35L5.41 20z\"/>\n",
              "  </svg>\n",
              "      </button>\n",
              "      \n",
              "  <style>\n",
              "    .colab-df-container {\n",
              "      display:flex;\n",
              "      flex-wrap:wrap;\n",
              "      gap: 12px;\n",
              "    }\n",
              "\n",
              "    .colab-df-convert {\n",
              "      background-color: #E8F0FE;\n",
              "      border: none;\n",
              "      border-radius: 50%;\n",
              "      cursor: pointer;\n",
              "      display: none;\n",
              "      fill: #1967D2;\n",
              "      height: 32px;\n",
              "      padding: 0 0 0 0;\n",
              "      width: 32px;\n",
              "    }\n",
              "\n",
              "    .colab-df-convert:hover {\n",
              "      background-color: #E2EBFA;\n",
              "      box-shadow: 0px 1px 2px rgba(60, 64, 67, 0.3), 0px 1px 3px 1px rgba(60, 64, 67, 0.15);\n",
              "      fill: #174EA6;\n",
              "    }\n",
              "\n",
              "    [theme=dark] .colab-df-convert {\n",
              "      background-color: #3B4455;\n",
              "      fill: #D2E3FC;\n",
              "    }\n",
              "\n",
              "    [theme=dark] .colab-df-convert:hover {\n",
              "      background-color: #434B5C;\n",
              "      box-shadow: 0px 1px 3px 1px rgba(0, 0, 0, 0.15);\n",
              "      filter: drop-shadow(0px 1px 2px rgba(0, 0, 0, 0.3));\n",
              "      fill: #FFFFFF;\n",
              "    }\n",
              "  </style>\n",
              "\n",
              "      <script>\n",
              "        const buttonEl =\n",
              "          document.querySelector('#df-f49ed973-46cc-4638-a4c0-eee3a649967c button.colab-df-convert');\n",
              "        buttonEl.style.display =\n",
              "          google.colab.kernel.accessAllowed ? 'block' : 'none';\n",
              "\n",
              "        async function convertToInteractive(key) {\n",
              "          const element = document.querySelector('#df-f49ed973-46cc-4638-a4c0-eee3a649967c');\n",
              "          const dataTable =\n",
              "            await google.colab.kernel.invokeFunction('convertToInteractive',\n",
              "                                                     [key], {});\n",
              "          if (!dataTable) return;\n",
              "\n",
              "          const docLinkHtml = 'Like what you see? Visit the ' +\n",
              "            '<a target=\"_blank\" href=https://colab.research.google.com/notebooks/data_table.ipynb>data table notebook</a>'\n",
              "            + ' to learn more about interactive tables.';\n",
              "          element.innerHTML = '';\n",
              "          dataTable['output_type'] = 'display_data';\n",
              "          await google.colab.output.renderOutput(dataTable, element);\n",
              "          const docLink = document.createElement('div');\n",
              "          docLink.innerHTML = docLinkHtml;\n",
              "          element.appendChild(docLink);\n",
              "        }\n",
              "      </script>\n",
              "    </div>\n",
              "  </div>\n",
              "  "
            ]
          },
          "metadata": {},
          "execution_count": 9
        }
      ],
      "source": [
        "dataset.head(3)"
      ]
    },
    {
      "cell_type": "markdown",
      "metadata": {
        "id": "nJYtPcxXUUZW"
      },
      "source": [
        "## 1.1 : Data Quality Report"
      ]
    },
    {
      "cell_type": "markdown",
      "source": [
        "It's now time to create our data quality reports.\n",
        "\n",
        "Building a Data Quality Report, consists of\n",
        "\n",
        "\n",
        "*   Report for continuous features\n",
        "*   Report for categorical features\n",
        "\n"
      ],
      "metadata": {
        "id": "YVqVOBluNHDc"
      }
    },
    {
      "cell_type": "markdown",
      "metadata": {
        "id": "Q8YzM_3qfbNh"
      },
      "source": [
        "### 1.1.1 : Continuous Features Report"
      ]
    },
    {
      "cell_type": "markdown",
      "source": [
        "Here, we are creating a report with continuous feautres that includes:\n",
        "\n",
        "1. count\n",
        "2. Missing values percentage\n",
        "3. Cardinality(distinct values)\n",
        "4. Min\n",
        "5. 1st quartile\n",
        "6. Mean\n",
        "7. Median\n",
        "8. 3rd quartile\n",
        "9. Max\n",
        "10. Standard deviation\n"
      ],
      "metadata": {
        "id": "HtwDzhx-PjRD"
      }
    },
    {
      "cell_type": "code",
      "execution_count": 10,
      "metadata": {
        "id": "alWe3I-QfSZR"
      },
      "outputs": [],
      "source": [
        "# Function to build continuous feature report\n",
        "def continuous_features_report(dataset):\n",
        "    stats = {\n",
        "        \"Count\": len,\n",
        "        \"Miss %\": lambda df: df.isna().sum() / len(df) * 100,\n",
        "        \"Card.\": lambda df: df.nunique(),\n",
        "        \"Min\": lambda df: df.min(),\n",
        "        \"1st Qrt.\": lambda df: df.quantile(0.25),\n",
        "        \"Mean\": lambda df: df.mean(),\n",
        "        \"Median\": lambda df: df.median(),\n",
        "        \"3rd Qrt\": lambda df: df.quantile(0.75),\n",
        "        \"Max\": lambda df: df.max(),\n",
        "        \"Std. Dev.\": lambda df: df.std(),\n",
        "    }\n",
        "\n",
        "    lst_cont_features = dataset.select_dtypes(\"number\").columns\n",
        "    dataset_continuous = dataset[lst_cont_features]\n",
        "\n",
        "    report_df = pd.DataFrame(index=lst_cont_features, columns=stats.keys())\n",
        "    for stat_name, fn in stats.items():\n",
        "        # NOTE: ignore warnings for empty features\n",
        "        with warnings.catch_warnings():\n",
        "            warnings.simplefilter(\"ignore\", category=RuntimeWarning)\n",
        "            report_df[stat_name] = fn(dataset_continuous)\n",
        "\n",
        "    return report_df"
      ]
    },
    {
      "cell_type": "code",
      "execution_count": 11,
      "metadata": {
        "colab": {
          "base_uri": "https://localhost:8080/",
          "height": 269
        },
        "id": "0jCfhuexg5Ko",
        "outputId": "912319c7-46b8-45ec-d930-c0f33a620724"
      },
      "outputs": [
        {
          "output_type": "execute_result",
          "data": {
            "text/plain": [
              "               Count    Miss %  Card.       Min   1st Qrt.          Mean  \\\n",
              "Row ID         51290   0.00000  51290     1.000   12823.25  25645.500000   \n",
              "Postal Code    51290  80.51472    631  1040.000    23223.0  55190.379428   \n",
              "Sales          51290   0.00000  22995     0.444  30.758625    246.490581   \n",
              "Quantity       51290   0.00000     14     1.000        2.0      3.476545   \n",
              "Discount       51290   0.00000     27     0.000        0.0      0.142908   \n",
              "Profit         51290   0.00000  24575 -6599.978        0.0     28.610982   \n",
              "Shipping Cost  51290   0.00000  10037     0.000       2.61     26.375915   \n",
              "\n",
              "                  Median   3rd Qrt        Max     Std. Dev.  \n",
              "Row ID         25645.500  38467.75  51290.000  14806.291990  \n",
              "Postal Code    56430.500   90008.0  99301.000  32063.693350  \n",
              "Sales             85.053  251.0532  22638.480    487.565361  \n",
              "Quantity           3.000       5.0     14.000      2.278766  \n",
              "Discount           0.000       0.2      0.850      0.212280  \n",
              "Profit             9.240     36.81   8399.976    174.340972  \n",
              "Shipping Cost      7.790     24.45    933.570     57.296804  "
            ],
            "text/html": [
              "\n",
              "  <div id=\"df-59fd40a9-f311-43b0-961f-857d38e2d37e\">\n",
              "    <div class=\"colab-df-container\">\n",
              "      <div>\n",
              "<style scoped>\n",
              "    .dataframe tbody tr th:only-of-type {\n",
              "        vertical-align: middle;\n",
              "    }\n",
              "\n",
              "    .dataframe tbody tr th {\n",
              "        vertical-align: top;\n",
              "    }\n",
              "\n",
              "    .dataframe thead th {\n",
              "        text-align: right;\n",
              "    }\n",
              "</style>\n",
              "<table border=\"1\" class=\"dataframe\">\n",
              "  <thead>\n",
              "    <tr style=\"text-align: right;\">\n",
              "      <th></th>\n",
              "      <th>Count</th>\n",
              "      <th>Miss %</th>\n",
              "      <th>Card.</th>\n",
              "      <th>Min</th>\n",
              "      <th>1st Qrt.</th>\n",
              "      <th>Mean</th>\n",
              "      <th>Median</th>\n",
              "      <th>3rd Qrt</th>\n",
              "      <th>Max</th>\n",
              "      <th>Std. Dev.</th>\n",
              "    </tr>\n",
              "  </thead>\n",
              "  <tbody>\n",
              "    <tr>\n",
              "      <th>Row ID</th>\n",
              "      <td>51290</td>\n",
              "      <td>0.00000</td>\n",
              "      <td>51290</td>\n",
              "      <td>1.000</td>\n",
              "      <td>12823.25</td>\n",
              "      <td>25645.500000</td>\n",
              "      <td>25645.500</td>\n",
              "      <td>38467.75</td>\n",
              "      <td>51290.000</td>\n",
              "      <td>14806.291990</td>\n",
              "    </tr>\n",
              "    <tr>\n",
              "      <th>Postal Code</th>\n",
              "      <td>51290</td>\n",
              "      <td>80.51472</td>\n",
              "      <td>631</td>\n",
              "      <td>1040.000</td>\n",
              "      <td>23223.0</td>\n",
              "      <td>55190.379428</td>\n",
              "      <td>56430.500</td>\n",
              "      <td>90008.0</td>\n",
              "      <td>99301.000</td>\n",
              "      <td>32063.693350</td>\n",
              "    </tr>\n",
              "    <tr>\n",
              "      <th>Sales</th>\n",
              "      <td>51290</td>\n",
              "      <td>0.00000</td>\n",
              "      <td>22995</td>\n",
              "      <td>0.444</td>\n",
              "      <td>30.758625</td>\n",
              "      <td>246.490581</td>\n",
              "      <td>85.053</td>\n",
              "      <td>251.0532</td>\n",
              "      <td>22638.480</td>\n",
              "      <td>487.565361</td>\n",
              "    </tr>\n",
              "    <tr>\n",
              "      <th>Quantity</th>\n",
              "      <td>51290</td>\n",
              "      <td>0.00000</td>\n",
              "      <td>14</td>\n",
              "      <td>1.000</td>\n",
              "      <td>2.0</td>\n",
              "      <td>3.476545</td>\n",
              "      <td>3.000</td>\n",
              "      <td>5.0</td>\n",
              "      <td>14.000</td>\n",
              "      <td>2.278766</td>\n",
              "    </tr>\n",
              "    <tr>\n",
              "      <th>Discount</th>\n",
              "      <td>51290</td>\n",
              "      <td>0.00000</td>\n",
              "      <td>27</td>\n",
              "      <td>0.000</td>\n",
              "      <td>0.0</td>\n",
              "      <td>0.142908</td>\n",
              "      <td>0.000</td>\n",
              "      <td>0.2</td>\n",
              "      <td>0.850</td>\n",
              "      <td>0.212280</td>\n",
              "    </tr>\n",
              "    <tr>\n",
              "      <th>Profit</th>\n",
              "      <td>51290</td>\n",
              "      <td>0.00000</td>\n",
              "      <td>24575</td>\n",
              "      <td>-6599.978</td>\n",
              "      <td>0.0</td>\n",
              "      <td>28.610982</td>\n",
              "      <td>9.240</td>\n",
              "      <td>36.81</td>\n",
              "      <td>8399.976</td>\n",
              "      <td>174.340972</td>\n",
              "    </tr>\n",
              "    <tr>\n",
              "      <th>Shipping Cost</th>\n",
              "      <td>51290</td>\n",
              "      <td>0.00000</td>\n",
              "      <td>10037</td>\n",
              "      <td>0.000</td>\n",
              "      <td>2.61</td>\n",
              "      <td>26.375915</td>\n",
              "      <td>7.790</td>\n",
              "      <td>24.45</td>\n",
              "      <td>933.570</td>\n",
              "      <td>57.296804</td>\n",
              "    </tr>\n",
              "  </tbody>\n",
              "</table>\n",
              "</div>\n",
              "      <button class=\"colab-df-convert\" onclick=\"convertToInteractive('df-59fd40a9-f311-43b0-961f-857d38e2d37e')\"\n",
              "              title=\"Convert this dataframe to an interactive table.\"\n",
              "              style=\"display:none;\">\n",
              "        \n",
              "  <svg xmlns=\"http://www.w3.org/2000/svg\" height=\"24px\"viewBox=\"0 0 24 24\"\n",
              "       width=\"24px\">\n",
              "    <path d=\"M0 0h24v24H0V0z\" fill=\"none\"/>\n",
              "    <path d=\"M18.56 5.44l.94 2.06.94-2.06 2.06-.94-2.06-.94-.94-2.06-.94 2.06-2.06.94zm-11 1L8.5 8.5l.94-2.06 2.06-.94-2.06-.94L8.5 2.5l-.94 2.06-2.06.94zm10 10l.94 2.06.94-2.06 2.06-.94-2.06-.94-.94-2.06-.94 2.06-2.06.94z\"/><path d=\"M17.41 7.96l-1.37-1.37c-.4-.4-.92-.59-1.43-.59-.52 0-1.04.2-1.43.59L10.3 9.45l-7.72 7.72c-.78.78-.78 2.05 0 2.83L4 21.41c.39.39.9.59 1.41.59.51 0 1.02-.2 1.41-.59l7.78-7.78 2.81-2.81c.8-.78.8-2.07 0-2.86zM5.41 20L4 18.59l7.72-7.72 1.47 1.35L5.41 20z\"/>\n",
              "  </svg>\n",
              "      </button>\n",
              "      \n",
              "  <style>\n",
              "    .colab-df-container {\n",
              "      display:flex;\n",
              "      flex-wrap:wrap;\n",
              "      gap: 12px;\n",
              "    }\n",
              "\n",
              "    .colab-df-convert {\n",
              "      background-color: #E8F0FE;\n",
              "      border: none;\n",
              "      border-radius: 50%;\n",
              "      cursor: pointer;\n",
              "      display: none;\n",
              "      fill: #1967D2;\n",
              "      height: 32px;\n",
              "      padding: 0 0 0 0;\n",
              "      width: 32px;\n",
              "    }\n",
              "\n",
              "    .colab-df-convert:hover {\n",
              "      background-color: #E2EBFA;\n",
              "      box-shadow: 0px 1px 2px rgba(60, 64, 67, 0.3), 0px 1px 3px 1px rgba(60, 64, 67, 0.15);\n",
              "      fill: #174EA6;\n",
              "    }\n",
              "\n",
              "    [theme=dark] .colab-df-convert {\n",
              "      background-color: #3B4455;\n",
              "      fill: #D2E3FC;\n",
              "    }\n",
              "\n",
              "    [theme=dark] .colab-df-convert:hover {\n",
              "      background-color: #434B5C;\n",
              "      box-shadow: 0px 1px 3px 1px rgba(0, 0, 0, 0.15);\n",
              "      filter: drop-shadow(0px 1px 2px rgba(0, 0, 0, 0.3));\n",
              "      fill: #FFFFFF;\n",
              "    }\n",
              "  </style>\n",
              "\n",
              "      <script>\n",
              "        const buttonEl =\n",
              "          document.querySelector('#df-59fd40a9-f311-43b0-961f-857d38e2d37e button.colab-df-convert');\n",
              "        buttonEl.style.display =\n",
              "          google.colab.kernel.accessAllowed ? 'block' : 'none';\n",
              "\n",
              "        async function convertToInteractive(key) {\n",
              "          const element = document.querySelector('#df-59fd40a9-f311-43b0-961f-857d38e2d37e');\n",
              "          const dataTable =\n",
              "            await google.colab.kernel.invokeFunction('convertToInteractive',\n",
              "                                                     [key], {});\n",
              "          if (!dataTable) return;\n",
              "\n",
              "          const docLinkHtml = 'Like what you see? Visit the ' +\n",
              "            '<a target=\"_blank\" href=https://colab.research.google.com/notebooks/data_table.ipynb>data table notebook</a>'\n",
              "            + ' to learn more about interactive tables.';\n",
              "          element.innerHTML = '';\n",
              "          dataTable['output_type'] = 'display_data';\n",
              "          await google.colab.output.renderOutput(dataTable, element);\n",
              "          const docLink = document.createElement('div');\n",
              "          docLink.innerHTML = docLinkHtml;\n",
              "          element.appendChild(docLink);\n",
              "        }\n",
              "      </script>\n",
              "    </div>\n",
              "  </div>\n",
              "  "
            ]
          },
          "metadata": {},
          "execution_count": 11
        }
      ],
      "source": [
        "continuous_features_report(dataset)"
      ]
    },
    {
      "cell_type": "markdown",
      "metadata": {
        "id": "liFPpeisiBRK"
      },
      "source": [
        "### 1.1.2 : Categorical Features Report"
      ]
    },
    {
      "cell_type": "markdown",
      "source": [
        "We are creating a report for the dataset's categorical features, which includes the following:\n",
        "\n",
        "1. Count\n",
        "2. Missing Percentage\n",
        "3. Cardinality\n",
        "4. Mode\n",
        "5. Mode Frequency\n",
        "6. Mode Precentage\n",
        "7. 2nd Mode\n",
        "8. 2nd Mode Frequency\n",
        "9. 2nd Mode Precentage\n"
      ],
      "metadata": {
        "id": "WANTsJFqRL6t"
      }
    },
    {
      "cell_type": "code",
      "execution_count": 12,
      "metadata": {
        "id": "tiVkioNAiEbm"
      },
      "outputs": [],
      "source": [
        "# Function to build categorical features report\n",
        "def categorical_features_report(dataset):\n",
        "    def _mode(df):\n",
        "        return df.apply(lambda ft: ft.mode().to_list()).T\n",
        "\n",
        "    def _mode_freq(df):\n",
        "        return df.apply(lambda ft: ft.value_counts()[ft.mode()].sum())\n",
        "\n",
        "    def _second_mode(df):\n",
        "        return df.apply(lambda ft: ft[~ft.isin(ft.mode())].mode().to_list())\n",
        "\n",
        "    def _second_mode_freq(df):\n",
        "        return df.apply(\n",
        "            lambda ft: ft[~ft.isin(ft.mode())]\n",
        "            .value_counts()[ft[~ft.isin(ft.mode())].mode()]\n",
        "            .sum()\n",
        "        )\n",
        "\n",
        "    stats = {\n",
        "        \"Count\": len,\n",
        "        \"Miss %\": lambda df: df.isna().sum() / len(df) * 100,\n",
        "        \"Card.\": lambda df: df.nunique(),\n",
        "        \"Mode\": _mode,\n",
        "        \"Mode Freq\": _mode_freq,\n",
        "        \"Mode %\": lambda df: _mode_freq(df) / len(df) * 100,\n",
        "        \"2nd Mode\": _second_mode,\n",
        "        \"2nd Mode Freq\": _second_mode_freq,\n",
        "        \"2nd Mode %\": lambda df: _second_mode_freq(df) / len(df) * 100,\n",
        "    }\n",
        "\n",
        "    lst_cate_features = dataset.select_dtypes(exclude=\"number\").columns\n",
        "    categorical_dataset = dataset[lst_cate_features]\n",
        "    \n",
        "    report_df = pd.DataFrame(index=lst_cate_features, columns=stats.keys())\n",
        "    for stat_name, fn in stats.items():\n",
        "        # NOTE: ignore warnings for empty features\n",
        "        with warnings.catch_warnings():\n",
        "            warnings.simplefilter(\"ignore\", category=RuntimeWarning)\n",
        "            report_df[stat_name] = fn(categorical_dataset)\n",
        "\n",
        "    return report_df"
      ]
    },
    {
      "cell_type": "code",
      "execution_count": 13,
      "metadata": {
        "colab": {
          "base_uri": "https://localhost:8080/",
          "height": 748
        },
        "id": "oMPnERQbivFd",
        "outputId": "e4e0048b-1866-4206-ea99-46a46ce38c90"
      },
      "outputs": [
        {
          "output_type": "execute_result",
          "data": {
            "text/plain": [
              "                Count  Miss %  Card.             Mode  Mode Freq     Mode %  \\\n",
              "Order ID        51290     0.0  25035   CA-2014-100111         14   0.027296   \n",
              "Order Date      51290     0.0   1430       18-06-2014        135   0.263209   \n",
              "Ship Date       51290     0.0   1464       22-11-2014        130   0.253461   \n",
              "Ship Mode       51290     0.0      4   Standard Class      30775  60.001950   \n",
              "Customer ID     51290     0.0   1590         PO-18850         97   0.189121   \n",
              "Customer Name   51290     0.0    795  Muhammed Yedwab        108   0.210567   \n",
              "Segment         51290     0.0      3         Consumer      26518  51.702086   \n",
              "City            51290     0.0   3636    New York City        915   1.783973   \n",
              "State           51290     0.0   1094       California       2001   3.901345   \n",
              "Country         51290     0.0    147    United States       9994  19.485280   \n",
              "Market          51290     0.0      7             APAC      11002  21.450575   \n",
              "Region          51290     0.0     13          Central      11117  21.674790   \n",
              "Product ID      51290     0.0  10292  OFF-AR-10003651         35   0.068239   \n",
              "Category        51290     0.0      3  Office Supplies      31273  60.972899   \n",
              "Sub-Category    51290     0.0     17          Binders       6152  11.994541   \n",
              "Product Name    51290     0.0   3788          Staples        227   0.442581   \n",
              "Order Priority  51290     0.0      4           Medium      29433  57.385455   \n",
              "\n",
              "                                                         2nd Mode  \\\n",
              "Order ID        [IN-2012-41261, IN-2013-42311, MX-2014-166541,...   \n",
              "Order Date                                           [18-11-2014]   \n",
              "Ship Date                                              [7/9/2014]   \n",
              "Ship Mode                                          [Second Class]   \n",
              "Customer ID                                            [BE-11335]   \n",
              "Customer Name                                       [Steven Ward]   \n",
              "Segment                                               [Corporate]   \n",
              "City                                                [Los Angeles]   \n",
              "State                                                   [England]   \n",
              "Country                                               [Australia]   \n",
              "Market                                                    [LATAM]   \n",
              "Region                                                    [South]   \n",
              "Product ID                                      [OFF-AR-10003829]   \n",
              "Category                                             [Technology]   \n",
              "Sub-Category                                            [Storage]   \n",
              "Product Name                          [Cardinal Index Tab, Clear]   \n",
              "Order Priority                                             [High]   \n",
              "\n",
              "                2nd Mode Freq  2nd Mode %  \n",
              "Order ID                   65    0.126730  \n",
              "Order Date                127    0.247612  \n",
              "Ship Date                 115    0.224215  \n",
              "Ship Mode               10309   20.099435  \n",
              "Customer ID                94    0.183272  \n",
              "Customer Name             106    0.206668  \n",
              "Segment                 15429   30.081887  \n",
              "City                      747    1.456424  \n",
              "State                    1499    2.922597  \n",
              "Country                  2837    5.531293  \n",
              "Market                  10294   20.070189  \n",
              "Region                   6645   12.955742  \n",
              "Product ID                 31    0.060441  \n",
              "Category                10141   19.771885  \n",
              "Sub-Category             5059    9.863521  \n",
              "Product Name               92    0.179372  \n",
              "Order Priority          15501   30.222266  "
            ],
            "text/html": [
              "\n",
              "  <div id=\"df-6e57c186-049c-497c-be0a-af3f5f761bea\">\n",
              "    <div class=\"colab-df-container\">\n",
              "      <div>\n",
              "<style scoped>\n",
              "    .dataframe tbody tr th:only-of-type {\n",
              "        vertical-align: middle;\n",
              "    }\n",
              "\n",
              "    .dataframe tbody tr th {\n",
              "        vertical-align: top;\n",
              "    }\n",
              "\n",
              "    .dataframe thead th {\n",
              "        text-align: right;\n",
              "    }\n",
              "</style>\n",
              "<table border=\"1\" class=\"dataframe\">\n",
              "  <thead>\n",
              "    <tr style=\"text-align: right;\">\n",
              "      <th></th>\n",
              "      <th>Count</th>\n",
              "      <th>Miss %</th>\n",
              "      <th>Card.</th>\n",
              "      <th>Mode</th>\n",
              "      <th>Mode Freq</th>\n",
              "      <th>Mode %</th>\n",
              "      <th>2nd Mode</th>\n",
              "      <th>2nd Mode Freq</th>\n",
              "      <th>2nd Mode %</th>\n",
              "    </tr>\n",
              "  </thead>\n",
              "  <tbody>\n",
              "    <tr>\n",
              "      <th>Order ID</th>\n",
              "      <td>51290</td>\n",
              "      <td>0.0</td>\n",
              "      <td>25035</td>\n",
              "      <td>CA-2014-100111</td>\n",
              "      <td>14</td>\n",
              "      <td>0.027296</td>\n",
              "      <td>[IN-2012-41261, IN-2013-42311, MX-2014-166541,...</td>\n",
              "      <td>65</td>\n",
              "      <td>0.126730</td>\n",
              "    </tr>\n",
              "    <tr>\n",
              "      <th>Order Date</th>\n",
              "      <td>51290</td>\n",
              "      <td>0.0</td>\n",
              "      <td>1430</td>\n",
              "      <td>18-06-2014</td>\n",
              "      <td>135</td>\n",
              "      <td>0.263209</td>\n",
              "      <td>[18-11-2014]</td>\n",
              "      <td>127</td>\n",
              "      <td>0.247612</td>\n",
              "    </tr>\n",
              "    <tr>\n",
              "      <th>Ship Date</th>\n",
              "      <td>51290</td>\n",
              "      <td>0.0</td>\n",
              "      <td>1464</td>\n",
              "      <td>22-11-2014</td>\n",
              "      <td>130</td>\n",
              "      <td>0.253461</td>\n",
              "      <td>[7/9/2014]</td>\n",
              "      <td>115</td>\n",
              "      <td>0.224215</td>\n",
              "    </tr>\n",
              "    <tr>\n",
              "      <th>Ship Mode</th>\n",
              "      <td>51290</td>\n",
              "      <td>0.0</td>\n",
              "      <td>4</td>\n",
              "      <td>Standard Class</td>\n",
              "      <td>30775</td>\n",
              "      <td>60.001950</td>\n",
              "      <td>[Second Class]</td>\n",
              "      <td>10309</td>\n",
              "      <td>20.099435</td>\n",
              "    </tr>\n",
              "    <tr>\n",
              "      <th>Customer ID</th>\n",
              "      <td>51290</td>\n",
              "      <td>0.0</td>\n",
              "      <td>1590</td>\n",
              "      <td>PO-18850</td>\n",
              "      <td>97</td>\n",
              "      <td>0.189121</td>\n",
              "      <td>[BE-11335]</td>\n",
              "      <td>94</td>\n",
              "      <td>0.183272</td>\n",
              "    </tr>\n",
              "    <tr>\n",
              "      <th>Customer Name</th>\n",
              "      <td>51290</td>\n",
              "      <td>0.0</td>\n",
              "      <td>795</td>\n",
              "      <td>Muhammed Yedwab</td>\n",
              "      <td>108</td>\n",
              "      <td>0.210567</td>\n",
              "      <td>[Steven Ward]</td>\n",
              "      <td>106</td>\n",
              "      <td>0.206668</td>\n",
              "    </tr>\n",
              "    <tr>\n",
              "      <th>Segment</th>\n",
              "      <td>51290</td>\n",
              "      <td>0.0</td>\n",
              "      <td>3</td>\n",
              "      <td>Consumer</td>\n",
              "      <td>26518</td>\n",
              "      <td>51.702086</td>\n",
              "      <td>[Corporate]</td>\n",
              "      <td>15429</td>\n",
              "      <td>30.081887</td>\n",
              "    </tr>\n",
              "    <tr>\n",
              "      <th>City</th>\n",
              "      <td>51290</td>\n",
              "      <td>0.0</td>\n",
              "      <td>3636</td>\n",
              "      <td>New York City</td>\n",
              "      <td>915</td>\n",
              "      <td>1.783973</td>\n",
              "      <td>[Los Angeles]</td>\n",
              "      <td>747</td>\n",
              "      <td>1.456424</td>\n",
              "    </tr>\n",
              "    <tr>\n",
              "      <th>State</th>\n",
              "      <td>51290</td>\n",
              "      <td>0.0</td>\n",
              "      <td>1094</td>\n",
              "      <td>California</td>\n",
              "      <td>2001</td>\n",
              "      <td>3.901345</td>\n",
              "      <td>[England]</td>\n",
              "      <td>1499</td>\n",
              "      <td>2.922597</td>\n",
              "    </tr>\n",
              "    <tr>\n",
              "      <th>Country</th>\n",
              "      <td>51290</td>\n",
              "      <td>0.0</td>\n",
              "      <td>147</td>\n",
              "      <td>United States</td>\n",
              "      <td>9994</td>\n",
              "      <td>19.485280</td>\n",
              "      <td>[Australia]</td>\n",
              "      <td>2837</td>\n",
              "      <td>5.531293</td>\n",
              "    </tr>\n",
              "    <tr>\n",
              "      <th>Market</th>\n",
              "      <td>51290</td>\n",
              "      <td>0.0</td>\n",
              "      <td>7</td>\n",
              "      <td>APAC</td>\n",
              "      <td>11002</td>\n",
              "      <td>21.450575</td>\n",
              "      <td>[LATAM]</td>\n",
              "      <td>10294</td>\n",
              "      <td>20.070189</td>\n",
              "    </tr>\n",
              "    <tr>\n",
              "      <th>Region</th>\n",
              "      <td>51290</td>\n",
              "      <td>0.0</td>\n",
              "      <td>13</td>\n",
              "      <td>Central</td>\n",
              "      <td>11117</td>\n",
              "      <td>21.674790</td>\n",
              "      <td>[South]</td>\n",
              "      <td>6645</td>\n",
              "      <td>12.955742</td>\n",
              "    </tr>\n",
              "    <tr>\n",
              "      <th>Product ID</th>\n",
              "      <td>51290</td>\n",
              "      <td>0.0</td>\n",
              "      <td>10292</td>\n",
              "      <td>OFF-AR-10003651</td>\n",
              "      <td>35</td>\n",
              "      <td>0.068239</td>\n",
              "      <td>[OFF-AR-10003829]</td>\n",
              "      <td>31</td>\n",
              "      <td>0.060441</td>\n",
              "    </tr>\n",
              "    <tr>\n",
              "      <th>Category</th>\n",
              "      <td>51290</td>\n",
              "      <td>0.0</td>\n",
              "      <td>3</td>\n",
              "      <td>Office Supplies</td>\n",
              "      <td>31273</td>\n",
              "      <td>60.972899</td>\n",
              "      <td>[Technology]</td>\n",
              "      <td>10141</td>\n",
              "      <td>19.771885</td>\n",
              "    </tr>\n",
              "    <tr>\n",
              "      <th>Sub-Category</th>\n",
              "      <td>51290</td>\n",
              "      <td>0.0</td>\n",
              "      <td>17</td>\n",
              "      <td>Binders</td>\n",
              "      <td>6152</td>\n",
              "      <td>11.994541</td>\n",
              "      <td>[Storage]</td>\n",
              "      <td>5059</td>\n",
              "      <td>9.863521</td>\n",
              "    </tr>\n",
              "    <tr>\n",
              "      <th>Product Name</th>\n",
              "      <td>51290</td>\n",
              "      <td>0.0</td>\n",
              "      <td>3788</td>\n",
              "      <td>Staples</td>\n",
              "      <td>227</td>\n",
              "      <td>0.442581</td>\n",
              "      <td>[Cardinal Index Tab, Clear]</td>\n",
              "      <td>92</td>\n",
              "      <td>0.179372</td>\n",
              "    </tr>\n",
              "    <tr>\n",
              "      <th>Order Priority</th>\n",
              "      <td>51290</td>\n",
              "      <td>0.0</td>\n",
              "      <td>4</td>\n",
              "      <td>Medium</td>\n",
              "      <td>29433</td>\n",
              "      <td>57.385455</td>\n",
              "      <td>[High]</td>\n",
              "      <td>15501</td>\n",
              "      <td>30.222266</td>\n",
              "    </tr>\n",
              "  </tbody>\n",
              "</table>\n",
              "</div>\n",
              "      <button class=\"colab-df-convert\" onclick=\"convertToInteractive('df-6e57c186-049c-497c-be0a-af3f5f761bea')\"\n",
              "              title=\"Convert this dataframe to an interactive table.\"\n",
              "              style=\"display:none;\">\n",
              "        \n",
              "  <svg xmlns=\"http://www.w3.org/2000/svg\" height=\"24px\"viewBox=\"0 0 24 24\"\n",
              "       width=\"24px\">\n",
              "    <path d=\"M0 0h24v24H0V0z\" fill=\"none\"/>\n",
              "    <path d=\"M18.56 5.44l.94 2.06.94-2.06 2.06-.94-2.06-.94-.94-2.06-.94 2.06-2.06.94zm-11 1L8.5 8.5l.94-2.06 2.06-.94-2.06-.94L8.5 2.5l-.94 2.06-2.06.94zm10 10l.94 2.06.94-2.06 2.06-.94-2.06-.94-.94-2.06-.94 2.06-2.06.94z\"/><path d=\"M17.41 7.96l-1.37-1.37c-.4-.4-.92-.59-1.43-.59-.52 0-1.04.2-1.43.59L10.3 9.45l-7.72 7.72c-.78.78-.78 2.05 0 2.83L4 21.41c.39.39.9.59 1.41.59.51 0 1.02-.2 1.41-.59l7.78-7.78 2.81-2.81c.8-.78.8-2.07 0-2.86zM5.41 20L4 18.59l7.72-7.72 1.47 1.35L5.41 20z\"/>\n",
              "  </svg>\n",
              "      </button>\n",
              "      \n",
              "  <style>\n",
              "    .colab-df-container {\n",
              "      display:flex;\n",
              "      flex-wrap:wrap;\n",
              "      gap: 12px;\n",
              "    }\n",
              "\n",
              "    .colab-df-convert {\n",
              "      background-color: #E8F0FE;\n",
              "      border: none;\n",
              "      border-radius: 50%;\n",
              "      cursor: pointer;\n",
              "      display: none;\n",
              "      fill: #1967D2;\n",
              "      height: 32px;\n",
              "      padding: 0 0 0 0;\n",
              "      width: 32px;\n",
              "    }\n",
              "\n",
              "    .colab-df-convert:hover {\n",
              "      background-color: #E2EBFA;\n",
              "      box-shadow: 0px 1px 2px rgba(60, 64, 67, 0.3), 0px 1px 3px 1px rgba(60, 64, 67, 0.15);\n",
              "      fill: #174EA6;\n",
              "    }\n",
              "\n",
              "    [theme=dark] .colab-df-convert {\n",
              "      background-color: #3B4455;\n",
              "      fill: #D2E3FC;\n",
              "    }\n",
              "\n",
              "    [theme=dark] .colab-df-convert:hover {\n",
              "      background-color: #434B5C;\n",
              "      box-shadow: 0px 1px 3px 1px rgba(0, 0, 0, 0.15);\n",
              "      filter: drop-shadow(0px 1px 2px rgba(0, 0, 0, 0.3));\n",
              "      fill: #FFFFFF;\n",
              "    }\n",
              "  </style>\n",
              "\n",
              "      <script>\n",
              "        const buttonEl =\n",
              "          document.querySelector('#df-6e57c186-049c-497c-be0a-af3f5f761bea button.colab-df-convert');\n",
              "        buttonEl.style.display =\n",
              "          google.colab.kernel.accessAllowed ? 'block' : 'none';\n",
              "\n",
              "        async function convertToInteractive(key) {\n",
              "          const element = document.querySelector('#df-6e57c186-049c-497c-be0a-af3f5f761bea');\n",
              "          const dataTable =\n",
              "            await google.colab.kernel.invokeFunction('convertToInteractive',\n",
              "                                                     [key], {});\n",
              "          if (!dataTable) return;\n",
              "\n",
              "          const docLinkHtml = 'Like what you see? Visit the ' +\n",
              "            '<a target=\"_blank\" href=https://colab.research.google.com/notebooks/data_table.ipynb>data table notebook</a>'\n",
              "            + ' to learn more about interactive tables.';\n",
              "          element.innerHTML = '';\n",
              "          dataTable['output_type'] = 'display_data';\n",
              "          await google.colab.output.renderOutput(dataTable, element);\n",
              "          const docLink = document.createElement('div');\n",
              "          docLink.innerHTML = docLinkHtml;\n",
              "          element.appendChild(docLink);\n",
              "        }\n",
              "      </script>\n",
              "    </div>\n",
              "  </div>\n",
              "  "
            ]
          },
          "metadata": {},
          "execution_count": 13
        }
      ],
      "source": [
        "categorical_features_report(dataset)"
      ]
    },
    {
      "cell_type": "markdown",
      "metadata": {
        "id": "IE3fTMZQ4tJ5"
      },
      "source": [
        "## 1.2 : Data Quality Issues and Plan"
      ]
    },
    {
      "cell_type": "markdown",
      "metadata": {
        "id": "8B1AOGg-53lg"
      },
      "source": [
        "### 1.2.1 : Data Quality Issues\n",
        "\n",
        "Before building a model, first, we need to check the quality of the dataset we have, to arrive at the most efficient conclusions.\n",
        "\n",
        "Therefore, we employed the following techniques to identify the data quality issues in this case:\n",
        "* Missing values identification\n",
        "* Irregular cardinalities\n",
        "* Detecting Outliers"
      ]
    },
    {
      "cell_type": "markdown",
      "metadata": {
        "id": "M_2HrdUa1A6r"
      },
      "source": [
        "#### 1.2.1.1 : Missing Values"
      ]
    },
    {
      "cell_type": "markdown",
      "source": [
        "To identify missing values for each features in our dataset, we developed a function. Using it, we can observe that the only features with missing values is \"Postal Code\"."
      ],
      "metadata": {
        "id": "w9U07X0TuJ_-"
      }
    },
    {
      "cell_type": "code",
      "execution_count": 14,
      "metadata": {
        "colab": {
          "base_uri": "https://localhost:8080/"
        },
        "id": "x3wwDHRsV-Ve",
        "outputId": "c9f1dd3a-d10e-4c73-b90c-a6e51ee90d83"
      },
      "outputs": [
        {
          "output_type": "stream",
          "name": "stdout",
          "text": [
            "Number of missing values :\n",
            "Row ID                0\n",
            "Order ID              0\n",
            "Order Date            0\n",
            "Ship Date             0\n",
            "Ship Mode             0\n",
            "Customer ID           0\n",
            "Customer Name         0\n",
            "Segment               0\n",
            "City                  0\n",
            "State                 0\n",
            "Country               0\n",
            "Postal Code       41296\n",
            "Market                0\n",
            "Region                0\n",
            "Product ID            0\n",
            "Category              0\n",
            "Sub-Category          0\n",
            "Product Name          0\n",
            "Sales                 0\n",
            "Quantity              0\n",
            "Discount              0\n",
            "Profit                0\n",
            "Shipping Cost         0\n",
            "Order Priority        0\n",
            "dtype: int64\n"
          ]
        }
      ],
      "source": [
        "# Detecting missing values\n",
        "def get_missing_count(dataset):\n",
        "    return dataset.isnull().sum()\n",
        "\n",
        "print(\"Number of missing values :\")\n",
        "print(get_missing_count(dataset))"
      ]
    },
    {
      "cell_type": "markdown",
      "metadata": {
        "id": "1SvOqo3c1LSK"
      },
      "source": [
        "#### 1.2.1.2:  Irregular Cardinality"
      ]
    },
    {
      "cell_type": "markdown",
      "metadata": {
        "id": "bMZnEmM9dnIG"
      },
      "source": [
        "We examine the categorical feature report to see whether any features have irregular cardinality in order to identify them."
      ]
    },
    {
      "cell_type": "code",
      "execution_count": 15,
      "metadata": {
        "colab": {
          "base_uri": "https://localhost:8080/",
          "height": 748
        },
        "id": "ipJRDyv1Auer",
        "outputId": "5997356e-f7c2-4c9a-fa73-7a24aceeb138"
      },
      "outputs": [
        {
          "output_type": "execute_result",
          "data": {
            "text/plain": [
              "                Count  Miss %  Card.             Mode  Mode Freq     Mode %  \\\n",
              "Order ID        51290     0.0  25035   CA-2014-100111         14   0.027296   \n",
              "Order Date      51290     0.0   1430       18-06-2014        135   0.263209   \n",
              "Ship Date       51290     0.0   1464       22-11-2014        130   0.253461   \n",
              "Ship Mode       51290     0.0      4   Standard Class      30775  60.001950   \n",
              "Customer ID     51290     0.0   1590         PO-18850         97   0.189121   \n",
              "Customer Name   51290     0.0    795  Muhammed Yedwab        108   0.210567   \n",
              "Segment         51290     0.0      3         Consumer      26518  51.702086   \n",
              "City            51290     0.0   3636    New York City        915   1.783973   \n",
              "State           51290     0.0   1094       California       2001   3.901345   \n",
              "Country         51290     0.0    147    United States       9994  19.485280   \n",
              "Market          51290     0.0      7             APAC      11002  21.450575   \n",
              "Region          51290     0.0     13          Central      11117  21.674790   \n",
              "Product ID      51290     0.0  10292  OFF-AR-10003651         35   0.068239   \n",
              "Category        51290     0.0      3  Office Supplies      31273  60.972899   \n",
              "Sub-Category    51290     0.0     17          Binders       6152  11.994541   \n",
              "Product Name    51290     0.0   3788          Staples        227   0.442581   \n",
              "Order Priority  51290     0.0      4           Medium      29433  57.385455   \n",
              "\n",
              "                                                         2nd Mode  \\\n",
              "Order ID        [IN-2012-41261, IN-2013-42311, MX-2014-166541,...   \n",
              "Order Date                                           [18-11-2014]   \n",
              "Ship Date                                              [7/9/2014]   \n",
              "Ship Mode                                          [Second Class]   \n",
              "Customer ID                                            [BE-11335]   \n",
              "Customer Name                                       [Steven Ward]   \n",
              "Segment                                               [Corporate]   \n",
              "City                                                [Los Angeles]   \n",
              "State                                                   [England]   \n",
              "Country                                               [Australia]   \n",
              "Market                                                    [LATAM]   \n",
              "Region                                                    [South]   \n",
              "Product ID                                      [OFF-AR-10003829]   \n",
              "Category                                             [Technology]   \n",
              "Sub-Category                                            [Storage]   \n",
              "Product Name                          [Cardinal Index Tab, Clear]   \n",
              "Order Priority                                             [High]   \n",
              "\n",
              "                2nd Mode Freq  2nd Mode %  \n",
              "Order ID                   65    0.126730  \n",
              "Order Date                127    0.247612  \n",
              "Ship Date                 115    0.224215  \n",
              "Ship Mode               10309   20.099435  \n",
              "Customer ID                94    0.183272  \n",
              "Customer Name             106    0.206668  \n",
              "Segment                 15429   30.081887  \n",
              "City                      747    1.456424  \n",
              "State                    1499    2.922597  \n",
              "Country                  2837    5.531293  \n",
              "Market                  10294   20.070189  \n",
              "Region                   6645   12.955742  \n",
              "Product ID                 31    0.060441  \n",
              "Category                10141   19.771885  \n",
              "Sub-Category             5059    9.863521  \n",
              "Product Name               92    0.179372  \n",
              "Order Priority          15501   30.222266  "
            ],
            "text/html": [
              "\n",
              "  <div id=\"df-1ec6eb72-2290-4d69-a486-0fe0bad0ca06\">\n",
              "    <div class=\"colab-df-container\">\n",
              "      <div>\n",
              "<style scoped>\n",
              "    .dataframe tbody tr th:only-of-type {\n",
              "        vertical-align: middle;\n",
              "    }\n",
              "\n",
              "    .dataframe tbody tr th {\n",
              "        vertical-align: top;\n",
              "    }\n",
              "\n",
              "    .dataframe thead th {\n",
              "        text-align: right;\n",
              "    }\n",
              "</style>\n",
              "<table border=\"1\" class=\"dataframe\">\n",
              "  <thead>\n",
              "    <tr style=\"text-align: right;\">\n",
              "      <th></th>\n",
              "      <th>Count</th>\n",
              "      <th>Miss %</th>\n",
              "      <th>Card.</th>\n",
              "      <th>Mode</th>\n",
              "      <th>Mode Freq</th>\n",
              "      <th>Mode %</th>\n",
              "      <th>2nd Mode</th>\n",
              "      <th>2nd Mode Freq</th>\n",
              "      <th>2nd Mode %</th>\n",
              "    </tr>\n",
              "  </thead>\n",
              "  <tbody>\n",
              "    <tr>\n",
              "      <th>Order ID</th>\n",
              "      <td>51290</td>\n",
              "      <td>0.0</td>\n",
              "      <td>25035</td>\n",
              "      <td>CA-2014-100111</td>\n",
              "      <td>14</td>\n",
              "      <td>0.027296</td>\n",
              "      <td>[IN-2012-41261, IN-2013-42311, MX-2014-166541,...</td>\n",
              "      <td>65</td>\n",
              "      <td>0.126730</td>\n",
              "    </tr>\n",
              "    <tr>\n",
              "      <th>Order Date</th>\n",
              "      <td>51290</td>\n",
              "      <td>0.0</td>\n",
              "      <td>1430</td>\n",
              "      <td>18-06-2014</td>\n",
              "      <td>135</td>\n",
              "      <td>0.263209</td>\n",
              "      <td>[18-11-2014]</td>\n",
              "      <td>127</td>\n",
              "      <td>0.247612</td>\n",
              "    </tr>\n",
              "    <tr>\n",
              "      <th>Ship Date</th>\n",
              "      <td>51290</td>\n",
              "      <td>0.0</td>\n",
              "      <td>1464</td>\n",
              "      <td>22-11-2014</td>\n",
              "      <td>130</td>\n",
              "      <td>0.253461</td>\n",
              "      <td>[7/9/2014]</td>\n",
              "      <td>115</td>\n",
              "      <td>0.224215</td>\n",
              "    </tr>\n",
              "    <tr>\n",
              "      <th>Ship Mode</th>\n",
              "      <td>51290</td>\n",
              "      <td>0.0</td>\n",
              "      <td>4</td>\n",
              "      <td>Standard Class</td>\n",
              "      <td>30775</td>\n",
              "      <td>60.001950</td>\n",
              "      <td>[Second Class]</td>\n",
              "      <td>10309</td>\n",
              "      <td>20.099435</td>\n",
              "    </tr>\n",
              "    <tr>\n",
              "      <th>Customer ID</th>\n",
              "      <td>51290</td>\n",
              "      <td>0.0</td>\n",
              "      <td>1590</td>\n",
              "      <td>PO-18850</td>\n",
              "      <td>97</td>\n",
              "      <td>0.189121</td>\n",
              "      <td>[BE-11335]</td>\n",
              "      <td>94</td>\n",
              "      <td>0.183272</td>\n",
              "    </tr>\n",
              "    <tr>\n",
              "      <th>Customer Name</th>\n",
              "      <td>51290</td>\n",
              "      <td>0.0</td>\n",
              "      <td>795</td>\n",
              "      <td>Muhammed Yedwab</td>\n",
              "      <td>108</td>\n",
              "      <td>0.210567</td>\n",
              "      <td>[Steven Ward]</td>\n",
              "      <td>106</td>\n",
              "      <td>0.206668</td>\n",
              "    </tr>\n",
              "    <tr>\n",
              "      <th>Segment</th>\n",
              "      <td>51290</td>\n",
              "      <td>0.0</td>\n",
              "      <td>3</td>\n",
              "      <td>Consumer</td>\n",
              "      <td>26518</td>\n",
              "      <td>51.702086</td>\n",
              "      <td>[Corporate]</td>\n",
              "      <td>15429</td>\n",
              "      <td>30.081887</td>\n",
              "    </tr>\n",
              "    <tr>\n",
              "      <th>City</th>\n",
              "      <td>51290</td>\n",
              "      <td>0.0</td>\n",
              "      <td>3636</td>\n",
              "      <td>New York City</td>\n",
              "      <td>915</td>\n",
              "      <td>1.783973</td>\n",
              "      <td>[Los Angeles]</td>\n",
              "      <td>747</td>\n",
              "      <td>1.456424</td>\n",
              "    </tr>\n",
              "    <tr>\n",
              "      <th>State</th>\n",
              "      <td>51290</td>\n",
              "      <td>0.0</td>\n",
              "      <td>1094</td>\n",
              "      <td>California</td>\n",
              "      <td>2001</td>\n",
              "      <td>3.901345</td>\n",
              "      <td>[England]</td>\n",
              "      <td>1499</td>\n",
              "      <td>2.922597</td>\n",
              "    </tr>\n",
              "    <tr>\n",
              "      <th>Country</th>\n",
              "      <td>51290</td>\n",
              "      <td>0.0</td>\n",
              "      <td>147</td>\n",
              "      <td>United States</td>\n",
              "      <td>9994</td>\n",
              "      <td>19.485280</td>\n",
              "      <td>[Australia]</td>\n",
              "      <td>2837</td>\n",
              "      <td>5.531293</td>\n",
              "    </tr>\n",
              "    <tr>\n",
              "      <th>Market</th>\n",
              "      <td>51290</td>\n",
              "      <td>0.0</td>\n",
              "      <td>7</td>\n",
              "      <td>APAC</td>\n",
              "      <td>11002</td>\n",
              "      <td>21.450575</td>\n",
              "      <td>[LATAM]</td>\n",
              "      <td>10294</td>\n",
              "      <td>20.070189</td>\n",
              "    </tr>\n",
              "    <tr>\n",
              "      <th>Region</th>\n",
              "      <td>51290</td>\n",
              "      <td>0.0</td>\n",
              "      <td>13</td>\n",
              "      <td>Central</td>\n",
              "      <td>11117</td>\n",
              "      <td>21.674790</td>\n",
              "      <td>[South]</td>\n",
              "      <td>6645</td>\n",
              "      <td>12.955742</td>\n",
              "    </tr>\n",
              "    <tr>\n",
              "      <th>Product ID</th>\n",
              "      <td>51290</td>\n",
              "      <td>0.0</td>\n",
              "      <td>10292</td>\n",
              "      <td>OFF-AR-10003651</td>\n",
              "      <td>35</td>\n",
              "      <td>0.068239</td>\n",
              "      <td>[OFF-AR-10003829]</td>\n",
              "      <td>31</td>\n",
              "      <td>0.060441</td>\n",
              "    </tr>\n",
              "    <tr>\n",
              "      <th>Category</th>\n",
              "      <td>51290</td>\n",
              "      <td>0.0</td>\n",
              "      <td>3</td>\n",
              "      <td>Office Supplies</td>\n",
              "      <td>31273</td>\n",
              "      <td>60.972899</td>\n",
              "      <td>[Technology]</td>\n",
              "      <td>10141</td>\n",
              "      <td>19.771885</td>\n",
              "    </tr>\n",
              "    <tr>\n",
              "      <th>Sub-Category</th>\n",
              "      <td>51290</td>\n",
              "      <td>0.0</td>\n",
              "      <td>17</td>\n",
              "      <td>Binders</td>\n",
              "      <td>6152</td>\n",
              "      <td>11.994541</td>\n",
              "      <td>[Storage]</td>\n",
              "      <td>5059</td>\n",
              "      <td>9.863521</td>\n",
              "    </tr>\n",
              "    <tr>\n",
              "      <th>Product Name</th>\n",
              "      <td>51290</td>\n",
              "      <td>0.0</td>\n",
              "      <td>3788</td>\n",
              "      <td>Staples</td>\n",
              "      <td>227</td>\n",
              "      <td>0.442581</td>\n",
              "      <td>[Cardinal Index Tab, Clear]</td>\n",
              "      <td>92</td>\n",
              "      <td>0.179372</td>\n",
              "    </tr>\n",
              "    <tr>\n",
              "      <th>Order Priority</th>\n",
              "      <td>51290</td>\n",
              "      <td>0.0</td>\n",
              "      <td>4</td>\n",
              "      <td>Medium</td>\n",
              "      <td>29433</td>\n",
              "      <td>57.385455</td>\n",
              "      <td>[High]</td>\n",
              "      <td>15501</td>\n",
              "      <td>30.222266</td>\n",
              "    </tr>\n",
              "  </tbody>\n",
              "</table>\n",
              "</div>\n",
              "      <button class=\"colab-df-convert\" onclick=\"convertToInteractive('df-1ec6eb72-2290-4d69-a486-0fe0bad0ca06')\"\n",
              "              title=\"Convert this dataframe to an interactive table.\"\n",
              "              style=\"display:none;\">\n",
              "        \n",
              "  <svg xmlns=\"http://www.w3.org/2000/svg\" height=\"24px\"viewBox=\"0 0 24 24\"\n",
              "       width=\"24px\">\n",
              "    <path d=\"M0 0h24v24H0V0z\" fill=\"none\"/>\n",
              "    <path d=\"M18.56 5.44l.94 2.06.94-2.06 2.06-.94-2.06-.94-.94-2.06-.94 2.06-2.06.94zm-11 1L8.5 8.5l.94-2.06 2.06-.94-2.06-.94L8.5 2.5l-.94 2.06-2.06.94zm10 10l.94 2.06.94-2.06 2.06-.94-2.06-.94-.94-2.06-.94 2.06-2.06.94z\"/><path d=\"M17.41 7.96l-1.37-1.37c-.4-.4-.92-.59-1.43-.59-.52 0-1.04.2-1.43.59L10.3 9.45l-7.72 7.72c-.78.78-.78 2.05 0 2.83L4 21.41c.39.39.9.59 1.41.59.51 0 1.02-.2 1.41-.59l7.78-7.78 2.81-2.81c.8-.78.8-2.07 0-2.86zM5.41 20L4 18.59l7.72-7.72 1.47 1.35L5.41 20z\"/>\n",
              "  </svg>\n",
              "      </button>\n",
              "      \n",
              "  <style>\n",
              "    .colab-df-container {\n",
              "      display:flex;\n",
              "      flex-wrap:wrap;\n",
              "      gap: 12px;\n",
              "    }\n",
              "\n",
              "    .colab-df-convert {\n",
              "      background-color: #E8F0FE;\n",
              "      border: none;\n",
              "      border-radius: 50%;\n",
              "      cursor: pointer;\n",
              "      display: none;\n",
              "      fill: #1967D2;\n",
              "      height: 32px;\n",
              "      padding: 0 0 0 0;\n",
              "      width: 32px;\n",
              "    }\n",
              "\n",
              "    .colab-df-convert:hover {\n",
              "      background-color: #E2EBFA;\n",
              "      box-shadow: 0px 1px 2px rgba(60, 64, 67, 0.3), 0px 1px 3px 1px rgba(60, 64, 67, 0.15);\n",
              "      fill: #174EA6;\n",
              "    }\n",
              "\n",
              "    [theme=dark] .colab-df-convert {\n",
              "      background-color: #3B4455;\n",
              "      fill: #D2E3FC;\n",
              "    }\n",
              "\n",
              "    [theme=dark] .colab-df-convert:hover {\n",
              "      background-color: #434B5C;\n",
              "      box-shadow: 0px 1px 3px 1px rgba(0, 0, 0, 0.15);\n",
              "      filter: drop-shadow(0px 1px 2px rgba(0, 0, 0, 0.3));\n",
              "      fill: #FFFFFF;\n",
              "    }\n",
              "  </style>\n",
              "\n",
              "      <script>\n",
              "        const buttonEl =\n",
              "          document.querySelector('#df-1ec6eb72-2290-4d69-a486-0fe0bad0ca06 button.colab-df-convert');\n",
              "        buttonEl.style.display =\n",
              "          google.colab.kernel.accessAllowed ? 'block' : 'none';\n",
              "\n",
              "        async function convertToInteractive(key) {\n",
              "          const element = document.querySelector('#df-1ec6eb72-2290-4d69-a486-0fe0bad0ca06');\n",
              "          const dataTable =\n",
              "            await google.colab.kernel.invokeFunction('convertToInteractive',\n",
              "                                                     [key], {});\n",
              "          if (!dataTable) return;\n",
              "\n",
              "          const docLinkHtml = 'Like what you see? Visit the ' +\n",
              "            '<a target=\"_blank\" href=https://colab.research.google.com/notebooks/data_table.ipynb>data table notebook</a>'\n",
              "            + ' to learn more about interactive tables.';\n",
              "          element.innerHTML = '';\n",
              "          dataTable['output_type'] = 'display_data';\n",
              "          await google.colab.output.renderOutput(dataTable, element);\n",
              "          const docLink = document.createElement('div');\n",
              "          docLink.innerHTML = docLinkHtml;\n",
              "          element.appendChild(docLink);\n",
              "        }\n",
              "      </script>\n",
              "    </div>\n",
              "  </div>\n",
              "  "
            ]
          },
          "metadata": {},
          "execution_count": 15
        }
      ],
      "source": [
        "categorical_features_report(dataset)"
      ]
    },
    {
      "cell_type": "markdown",
      "metadata": {
        "id": "6fMSXsxg5suM"
      },
      "source": [
        "#### 1.2.1.3 Detecting outliers"
      ]
    },
    {
      "cell_type": "markdown",
      "source": [
        "For each continuous features in our dataset, we employ our constructed method to identify outliers. By using it, we can see that a lot of features have outliers.\n",
        "* We use box plots to display outilers for each features."
      ],
      "metadata": {
        "id": "Cn1snrVUvUGW"
      }
    },
    {
      "cell_type": "code",
      "execution_count": 16,
      "metadata": {
        "id": "83_GwRo86KIq"
      },
      "outputs": [],
      "source": [
        "# Function to get outlier count\n",
        "def get_outliers_count(dataset, strFeature):\n",
        "    Q1 = dataset[strFeature].quantile(0.25)\n",
        "    Q3 = dataset[strFeature].quantile(0.75)\n",
        "    IQR = Q3-Q1\n",
        "    outliers_df = dataset[(dataset[strFeature] < (Q1 - 1.5 * IQR)) | (dataset[strFeature] > (Q3 + 1.5 * IQR))]\n",
        "    return outliers_df, len(outliers_df)"
      ]
    },
    {
      "cell_type": "markdown",
      "source": [
        "The boxplot and number of outliers for the feature \"Quantity\" are shown below."
      ],
      "metadata": {
        "id": "6APKh_jbwvuM"
      }
    },
    {
      "cell_type": "code",
      "execution_count": 17,
      "metadata": {
        "colab": {
          "base_uri": "https://localhost:8080/",
          "height": 312
        },
        "id": "RdLm0HqWCbxa",
        "outputId": "43770d6c-e061-4803-d1bc-8472061a3a5d"
      },
      "outputs": [
        {
          "output_type": "stream",
          "name": "stdout",
          "text": [
            "Number of outliers 877\n"
          ]
        },
        {
          "output_type": "display_data",
          "data": {
            "text/plain": [
              "<Figure size 432x288 with 1 Axes>"
            ],
            "image/png": "[encoded data removed]"
          },
          "metadata": {}
        }
      ],
      "source": [
        "sns.boxplot(x=\"Quantity\", data=dataset).set(title=\"Quality outliers\")\n",
        "con_outliers_df, con_outliers_count = get_outliers_count(dataset, \"Quantity\")\n",
        "print(\"Number of outliers\", con_outliers_count)"
      ]
    },
    {
      "cell_type": "markdown",
      "source": [
        "The boxplot and number of outliers for the feature \"Discount\" are shown below."
      ],
      "metadata": {
        "id": "ElJY5bSLxP6t"
      }
    },
    {
      "cell_type": "code",
      "execution_count": 18,
      "metadata": {
        "colab": {
          "base_uri": "https://localhost:8080/",
          "height": 312
        },
        "id": "euvvxlzUCmkG",
        "outputId": "7b0b4d0d-8845-4a0a-ac7d-4d57d12b0481"
      },
      "outputs": [
        {
          "output_type": "stream",
          "name": "stdout",
          "text": [
            "Number of outliers 4172\n"
          ]
        },
        {
          "output_type": "display_data",
          "data": {
            "text/plain": [
              "<Figure size 432x288 with 1 Axes>"
            ],
            "image/png": "[encoded data removed]"
          },
          "metadata": {}
        }
      ],
      "source": [
        "sns.boxplot(x=\"Discount\", data=dataset).set(title=\"Discount outliers\")\n",
        "con_outliers_df, con_outliers_count = get_outliers_count(dataset, \"Discount\")\n",
        "print(\"Number of outliers\", con_outliers_count)"
      ]
    },
    {
      "cell_type": "markdown",
      "source": [
        "The boxplot and number of outliers for the feature \"Shipping Cost\" are shown below."
      ],
      "metadata": {
        "id": "CELeN_ubxTKQ"
      }
    },
    {
      "cell_type": "code",
      "execution_count": 19,
      "metadata": {
        "colab": {
          "base_uri": "https://localhost:8080/",
          "height": 312
        },
        "id": "LGgIqdMOCwqA",
        "outputId": "97cd4790-8bbf-454a-ef25-e55cec8f6cb4"
      },
      "outputs": [
        {
          "output_type": "stream",
          "name": "stdout",
          "text": [
            "Number of outliers 5909\n"
          ]
        },
        {
          "output_type": "display_data",
          "data": {
            "text/plain": [
              "<Figure size 432x288 with 1 Axes>"
            ],
            "image/png": "[encoded data removed]"
          },
          "metadata": {}
        }
      ],
      "source": [
        "sns.boxplot(x=\"Shipping Cost\", data=dataset).set(title=\"Shipping Cost outliers\")\n",
        "con_outliers_df, con_outliers_count = get_outliers_count(dataset, \"Shipping Cost\")\n",
        "print(\"Number of outliers\", con_outliers_count)"
      ]
    },
    {
      "cell_type": "markdown",
      "source": [
        "The boxplot and number of outliers for the feature \"Profit\" are shown below."
      ],
      "metadata": {
        "id": "2JJ_AGcbxXHI"
      }
    },
    {
      "cell_type": "code",
      "execution_count": 20,
      "metadata": {
        "colab": {
          "base_uri": "https://localhost:8080/",
          "height": 312
        },
        "id": "SbDJpfY3Ch0W",
        "outputId": "eacd3d31-939c-4be8-fa12-c197f7279c32"
      },
      "outputs": [
        {
          "output_type": "stream",
          "name": "stdout",
          "text": [
            "Number of outliers 9755\n"
          ]
        },
        {
          "output_type": "display_data",
          "data": {
            "text/plain": [
              "<Figure size 432x288 with 1 Axes>"
            ],
            "image/png": "[encoded data removed]"
          },
          "metadata": {}
        }
      ],
      "source": [
        "sns.boxplot(x=\"Profit\", data=dataset).set(title=\"Profit outliers\")\n",
        "con_outliers_df, con_outliers_count = get_outliers_count(dataset, \"Profit\")\n",
        "print(\"Number of outliers\", con_outliers_count)"
      ]
    },
    {
      "cell_type": "markdown",
      "source": [
        "The boxplot and number of outliers for the feature \"Sales\" are shown below."
      ],
      "metadata": {
        "id": "svJ1wpAWxaLV"
      }
    },
    {
      "cell_type": "code",
      "execution_count": 21,
      "metadata": {
        "colab": {
          "base_uri": "https://localhost:8080/",
          "height": 312
        },
        "id": "NPO2t1lWIu_W",
        "outputId": "602bef64-11bb-4879-b737-75b042810feb"
      },
      "outputs": [
        {
          "output_type": "stream",
          "name": "stdout",
          "text": [
            "Number of outliers 5655\n"
          ]
        },
        {
          "output_type": "display_data",
          "data": {
            "text/plain": [
              "<Figure size 432x288 with 1 Axes>"
            ],
            "image/png": "[encoded data removed]"
          },
          "metadata": {}
        }
      ],
      "source": [
        "sns.boxplot(x=\"Sales\", data=dataset).set(title=\"Sales outliers\")\n",
        "con_outliers_df, con_outliers_count = get_outliers_count(dataset, \"Sales\")\n",
        "print(\"Number of outliers\", con_outliers_count)"
      ]
    },
    {
      "cell_type": "markdown",
      "source": [
        "### 1.2.2 : Data Quality Plan"
      ],
      "metadata": {
        "id": "pFJryoAIxiAA"
      }
    },
    {
      "cell_type": "markdown",
      "source": [
        "\n",
        "\n",
        "After building the above methods we have observed that \n",
        "* **Missing Values:** In the \"Postal Code\" feature of the dataset, there are a lot of missing values (around 80%). Because it won't be very useful in creating prediction models, we thus forecast that it would be preferable to remove this feature.\n",
        "\n",
        "* **Irregular Cardinalities:** We found no irregular cardinalities according to the report we produced for the categorical features of the dataset.\n",
        "\n",
        "*  **Detecting Outliers:** We can observe that many continuous features in this dataset include outliers. We won't be eliminating any outliers, though, because our dataset is considerably small. Additionally, we can infer from the aforementioned boxplots that these are just some large orders and not any noisy data."
      ],
      "metadata": {
        "id": "aFJMTu-s7WnM"
      }
    },
    {
      "cell_type": "markdown",
      "metadata": {
        "id": "IkB7Iz8U8SrD"
      },
      "source": [
        "## 1.3 : Execute Data Quality Plan"
      ]
    },
    {
      "cell_type": "markdown",
      "source": [
        "We just need to remove the \"Postal Code\" feature from the dataset in accordance with the data quality plan."
      ],
      "metadata": {
        "id": "RKeTJqj90owN"
      }
    },
    {
      "cell_type": "code",
      "execution_count": 22,
      "metadata": {
        "id": "wHKthogz90Bd"
      },
      "outputs": [],
      "source": [
        "# Dropping customer id\n",
        "dataset.drop('Postal Code', axis=1, inplace=True)"
      ]
    },
    {
      "cell_type": "markdown",
      "metadata": {
        "id": "2NvtrDWCve88"
      },
      "source": [
        "## 1.4 : Feature Visualization"
      ]
    },
    {
      "cell_type": "markdown",
      "source": [
        "In order to understand each features of our dataset better, we will now conduct several visualisations."
      ],
      "metadata": {
        "id": "Igr_nBxH1BHN"
      }
    },
    {
      "cell_type": "markdown",
      "source": [
        "1. The histogram for the \"Quantity\" feature is shown below."
      ],
      "metadata": {
        "id": "BNm1cxTx1U3d"
      }
    },
    {
      "cell_type": "code",
      "execution_count": 23,
      "metadata": {
        "colab": {
          "base_uri": "https://localhost:8080/",
          "height": 312
        },
        "id": "95UxihTH_-wW",
        "outputId": "7bd9e13f-4dbc-4c62-e3eb-2d4f47b10efb"
      },
      "outputs": [
        {
          "output_type": "execute_result",
          "data": {
            "text/plain": [
              "[Text(0.5, 1.0, 'Quality wise Count')]"
            ]
          },
          "metadata": {},
          "execution_count": 23
        },
        {
          "output_type": "display_data",
          "data": {
            "text/plain": [
              "<Figure size 432x288 with 1 Axes>"
            ],
            "image/png": "[encoded data removed]"
          },
          "metadata": {}
        }
      ],
      "source": [
        "sns.histplot(data=dataset, x=\"Quantity\", bins=10).set(title=\"Quality wise Count\")"
      ]
    },
    {
      "cell_type": "markdown",
      "source": [
        "2. The histogram for the \"Discount\" feature is shown below."
      ],
      "metadata": {
        "id": "XCFXvQxp1ozo"
      }
    },
    {
      "cell_type": "code",
      "execution_count": 24,
      "metadata": {
        "colab": {
          "base_uri": "https://localhost:8080/",
          "height": 312
        },
        "id": "6EI1ZyN3BADH",
        "outputId": "ddcda003-5577-471b-c460-7d5425f5719d"
      },
      "outputs": [
        {
          "output_type": "execute_result",
          "data": {
            "text/plain": [
              "[Text(0.5, 1.0, 'Discount wise Count')]"
            ]
          },
          "metadata": {},
          "execution_count": 24
        },
        {
          "output_type": "display_data",
          "data": {
            "text/plain": [
              "<Figure size 432x288 with 1 Axes>"
            ],
            "image/png": "[encoded data removed]"
          },
          "metadata": {}
        }
      ],
      "source": [
        "sns.histplot(data=dataset, x=\"Discount\", bins=10).set(title=\"Discount wise Count\")"
      ]
    },
    {
      "cell_type": "markdown",
      "source": [
        "3. The histogram for the \"Shipping cost\" feature is shown below."
      ],
      "metadata": {
        "id": "0lxdMrBJ1u8Z"
      }
    },
    {
      "cell_type": "code",
      "execution_count": 25,
      "metadata": {
        "colab": {
          "base_uri": "https://localhost:8080/",
          "height": 312
        },
        "id": "iH27QAPqBFQS",
        "outputId": "6a3415a7-5b64-4da5-fd52-4d64400ffbd8"
      },
      "outputs": [
        {
          "output_type": "execute_result",
          "data": {
            "text/plain": [
              "[Text(0.5, 1.0, 'Shipping Cost wise Count')]"
            ]
          },
          "metadata": {},
          "execution_count": 25
        },
        {
          "output_type": "display_data",
          "data": {
            "text/plain": [
              "<Figure size 432x288 with 1 Axes>"
            ],
            "image/png": "[encoded data removed]"
          },
          "metadata": {}
        }
      ],
      "source": [
        "sns.histplot(data=dataset, x=\"Shipping Cost\", bins=20).set(title=\"Shipping Cost wise Count\")"
      ]
    },
    {
      "cell_type": "markdown",
      "source": [
        "4. The histogram for the \"Profit\" feature is shown below."
      ],
      "metadata": {
        "id": "5Ty6DLFw1yvp"
      }
    },
    {
      "cell_type": "code",
      "execution_count": 26,
      "metadata": {
        "colab": {
          "base_uri": "https://localhost:8080/",
          "height": 312
        },
        "id": "97h0pDFcBIMs",
        "outputId": "e40d8b1e-8e4c-46f0-f03e-002f32ef6ff4"
      },
      "outputs": [
        {
          "output_type": "execute_result",
          "data": {
            "text/plain": [
              "[Text(0.5, 1.0, 'Profit wise Count')]"
            ]
          },
          "metadata": {},
          "execution_count": 26
        },
        {
          "output_type": "display_data",
          "data": {
            "text/plain": [
              "<Figure size 432x288 with 1 Axes>"
            ],
            "image/png": "[encoded data removed]"
          },
          "metadata": {}
        }
      ],
      "source": [
        "sns.histplot(data=dataset, x=\"Profit\", bins=20).set(title=\"Profit wise Count\")"
      ]
    },
    {
      "cell_type": "markdown",
      "source": [
        "5. The histogram for the \"Sales\" feature is shown below."
      ],
      "metadata": {
        "id": "00pbaSB312C_"
      }
    },
    {
      "cell_type": "code",
      "execution_count": 27,
      "metadata": {
        "colab": {
          "base_uri": "https://localhost:8080/",
          "height": 312
        },
        "id": "YJxePwnVApox",
        "outputId": "717a3b00-e14a-4132-ceb9-228c688c7050"
      },
      "outputs": [
        {
          "output_type": "execute_result",
          "data": {
            "text/plain": [
              "[Text(0.5, 1.0, 'Sales wise Count')]"
            ]
          },
          "metadata": {},
          "execution_count": 27
        },
        {
          "output_type": "display_data",
          "data": {
            "text/plain": [
              "<Figure size 432x288 with 1 Axes>"
            ],
            "image/png": "[encoded data removed]"
          },
          "metadata": {}
        }
      ],
      "source": [
        "sns.histplot(data=dataset, x=\"Sales\", bins=20).set(title=\"Sales wise Count\")"
      ]
    },
    {
      "cell_type": "markdown",
      "source": [
        "6.  The barplot for the \"Ship Mode\" feature is shown below."
      ],
      "metadata": {
        "id": "c4HKBpkd165P"
      }
    },
    {
      "cell_type": "code",
      "execution_count": 28,
      "metadata": {
        "colab": {
          "base_uri": "https://localhost:8080/",
          "height": 295
        },
        "id": "ArZNPQRoIJwD",
        "outputId": "c1405950-e79c-4fc6-ef8c-cb680b4fcf8d"
      },
      "outputs": [
        {
          "output_type": "display_data",
          "data": {
            "text/plain": [
              "<Figure size 432x288 with 1 Axes>"
            ],
            "image/png": "[encoded data removed]"
          },
          "metadata": {}
        }
      ],
      "source": [
        "ax = sns.countplot(x=\"Ship Mode\", data=dataset).set(title=\"Ship Mode wise Count\")"
      ]
    },
    {
      "cell_type": "markdown",
      "source": [
        "7.  The barplot for the \"Segment\" feature is shown below."
      ],
      "metadata": {
        "id": "lgVr8snd2BPL"
      }
    },
    {
      "cell_type": "code",
      "execution_count": 29,
      "metadata": {
        "colab": {
          "base_uri": "https://localhost:8080/",
          "height": 295
        },
        "id": "CCX4RyPMI2Uc",
        "outputId": "71f1fda1-d0fd-4a11-b091-baf232f43fdb"
      },
      "outputs": [
        {
          "output_type": "display_data",
          "data": {
            "text/plain": [
              "<Figure size 432x288 with 1 Axes>"
            ],
            "image/png": "[encoded data removed]"
          },
          "metadata": {}
        }
      ],
      "source": [
        "ax = sns.countplot(x=\"Segment\", data=dataset).set(title=\"Segment wise Count\")"
      ]
    },
    {
      "cell_type": "markdown",
      "source": [
        "8.  The barplot for the \"Market\" feature is shown below."
      ],
      "metadata": {
        "id": "ULerWdwo2EKw"
      }
    },
    {
      "cell_type": "code",
      "execution_count": 30,
      "metadata": {
        "colab": {
          "base_uri": "https://localhost:8080/",
          "height": 295
        },
        "id": "Xh8TUX_VI45v",
        "outputId": "b9bf3226-b62d-4ddd-d9c4-05af4948f77b"
      },
      "outputs": [
        {
          "output_type": "display_data",
          "data": {
            "text/plain": [
              "<Figure size 432x288 with 1 Axes>"
            ],
            "image/png": "[encoded data removed]"
          },
          "metadata": {}
        }
      ],
      "source": [
        "ax = sns.countplot(x=\"Market\", data=dataset).set(title=\"Market wise Count\")"
      ]
    },
    {
      "cell_type": "markdown",
      "source": [
        "9. The barplot for the \"Region\" feature is shown below."
      ],
      "metadata": {
        "id": "Nk5PXENF2Les"
      }
    },
    {
      "cell_type": "code",
      "execution_count": 31,
      "metadata": {
        "colab": {
          "base_uri": "https://localhost:8080/",
          "height": 295
        },
        "id": "2JpCXdJ9I7np",
        "outputId": "a8580042-a886-4ec3-d77e-1cb711ebed64"
      },
      "outputs": [
        {
          "output_type": "display_data",
          "data": {
            "text/plain": [
              "<Figure size 432x288 with 1 Axes>"
            ],
            "image/png": "[encoded data removed]"
          },
          "metadata": {}
        }
      ],
      "source": [
        "ax = sns.countplot(y=\"Region\", data=dataset).set(title=\"Region wise Count\")"
      ]
    },
    {
      "cell_type": "markdown",
      "source": [
        "10.  The barplot for the \"Category\" feature is shown below."
      ],
      "metadata": {
        "id": "D1TqUVVq2QFZ"
      }
    },
    {
      "cell_type": "code",
      "execution_count": 32,
      "metadata": {
        "colab": {
          "base_uri": "https://localhost:8080/",
          "height": 295
        },
        "id": "8_XEI2XRJCUk",
        "outputId": "9d8a379e-4c8f-4b3f-bb6b-7175342e34ba"
      },
      "outputs": [
        {
          "output_type": "display_data",
          "data": {
            "text/plain": [
              "<Figure size 432x288 with 1 Axes>"
            ],
            "image/png": "[encoded data removed]"
          },
          "metadata": {}
        }
      ],
      "source": [
        "ax = sns.countplot(x=\"Category\", data=dataset).set(title=\"Category wise Count\")"
      ]
    },
    {
      "cell_type": "markdown",
      "source": [
        "11.  The barplot for the \"Sub-Category\" feature is shown below."
      ],
      "metadata": {
        "id": "VL9rqs1J2Up0"
      }
    },
    {
      "cell_type": "code",
      "execution_count": 33,
      "metadata": {
        "colab": {
          "base_uri": "https://localhost:8080/",
          "height": 295
        },
        "id": "Ud3e8hbhJE4R",
        "outputId": "23949f0c-20fb-4403-dee4-4f87dcf66e51"
      },
      "outputs": [
        {
          "output_type": "display_data",
          "data": {
            "text/plain": [
              "<Figure size 432x288 with 1 Axes>"
            ],
            "image/png": "[encoded data removed]"
          },
          "metadata": {}
        }
      ],
      "source": [
        "ax = sns.countplot(y=\"Sub-Category\", data=dataset).set(title=\"Sub-Category wise Count\")"
      ]
    },
    {
      "cell_type": "markdown",
      "source": [
        "12.  The barplot for the \"Order Priority\" feature is shown below."
      ],
      "metadata": {
        "id": "fAN2jb7Q2Ydq"
      }
    },
    {
      "cell_type": "code",
      "execution_count": 34,
      "metadata": {
        "colab": {
          "base_uri": "https://localhost:8080/",
          "height": 295
        },
        "id": "8M7BakWKJIYA",
        "outputId": "c0120d33-a5f6-4c7c-c5f0-03df37ac1cff"
      },
      "outputs": [
        {
          "output_type": "display_data",
          "data": {
            "text/plain": [
              "<Figure size 432x288 with 1 Axes>"
            ],
            "image/png": "[encoded data removed]"
          },
          "metadata": {}
        }
      ],
      "source": [
        "ax = sns.countplot(x=\"Order Priority\", data=dataset).set(title=\"Order Priority wise Count\")"
      ]
    },
    {
      "cell_type": "markdown",
      "metadata": {
        "id": "QWyaq4nzR_Oz"
      },
      "source": [
        "## 1.5 Data Analysis"
      ]
    },
    {
      "cell_type": "markdown",
      "metadata": {
        "id": "X28vgPhaSL_b"
      },
      "source": [
        "### 1.5.1 : Most Sold/Profitable Product"
      ]
    },
    {
      "cell_type": "markdown",
      "source": [
        "In this section, we'll discover which product sold the most and which made the most profit."
      ],
      "metadata": {
        "id": "Ar6yLulT2m_x"
      }
    },
    {
      "cell_type": "code",
      "execution_count": 35,
      "metadata": {
        "id": "RuCYed6wUkKK"
      },
      "outputs": [],
      "source": [
        "data_summary = dataset.groupby(['Product Name']).sum().reset_index()"
      ]
    },
    {
      "cell_type": "markdown",
      "source": [
        "The top 10 products with the highest sales are shown below."
      ],
      "metadata": {
        "id": "8ayVuyHu26Rk"
      }
    },
    {
      "cell_type": "code",
      "execution_count": 36,
      "metadata": {
        "colab": {
          "base_uri": "https://localhost:8080/",
          "height": 295
        },
        "id": "eOs1WqKTR-2h",
        "outputId": "8b262207-9065-40f6-fd74-9d75a68054d1"
      },
      "outputs": [
        {
          "output_type": "display_data",
          "data": {
            "text/plain": [
              "<Figure size 432x288 with 1 Axes>"
            ],
            "image/png": "[encoded data removed]"
          },
          "metadata": {}
        }
      ],
      "source": [
        "data_summary_temp = data_summary.sort_values('Sales', ascending=False).head(10)\n",
        "ax = sns.barplot(y='Product Name', x='Sales', data=data_summary_temp).set(title=\"Product Name wise Sales\")"
      ]
    },
    {
      "cell_type": "markdown",
      "source": [
        "The top 10 items with the highest profit are shown below."
      ],
      "metadata": {
        "id": "FYYBwzTG3Kv6"
      }
    },
    {
      "cell_type": "code",
      "execution_count": 37,
      "metadata": {
        "colab": {
          "base_uri": "https://localhost:8080/",
          "height": 295
        },
        "id": "m82VFOtGUhtE",
        "outputId": "39d4c6b1-1315-4526-c814-1de5f5a1bc77"
      },
      "outputs": [
        {
          "output_type": "display_data",
          "data": {
            "text/plain": [
              "<Figure size 432x288 with 1 Axes>"
            ],
            "image/png": "[encoded data removed]"
          },
          "metadata": {}
        }
      ],
      "source": [
        "data_summary_temp = data_summary.sort_values('Profit', ascending=False).head(10)\n",
        "ax = sns.barplot(y='Product Name', x='Profit', data=data_summary_temp).set(title=\"Product Name wise Profit\")"
      ]
    },
    {
      "cell_type": "markdown",
      "metadata": {
        "id": "T6jm-6QoV3Tn"
      },
      "source": [
        "### 1.5.2 : Most Sold/Profitable Category"
      ]
    },
    {
      "cell_type": "markdown",
      "source": [
        "In this section, we'll discover which product category sold the most and which made the most profit."
      ],
      "metadata": {
        "id": "lbazKmD73VnA"
      }
    },
    {
      "cell_type": "code",
      "execution_count": 38,
      "metadata": {
        "id": "5atc7CpVWTEi"
      },
      "outputs": [],
      "source": [
        "data_summary = dataset.groupby(['Category']).sum().reset_index()"
      ]
    },
    {
      "cell_type": "markdown",
      "source": [
        "Here we show all the product categories and the amount of sell it generated."
      ],
      "metadata": {
        "id": "3Zw9zYqE3aXy"
      }
    },
    {
      "cell_type": "code",
      "execution_count": 39,
      "metadata": {
        "colab": {
          "base_uri": "https://localhost:8080/",
          "height": 295
        },
        "id": "L_fcLMYxWTEi",
        "outputId": "8297dbab-617e-41e9-f89d-0d320e79b5af"
      },
      "outputs": [
        {
          "output_type": "display_data",
          "data": {
            "text/plain": [
              "<Figure size 432x288 with 1 Axes>"
            ],
            "image/png": "[encoded data removed]"
          },
          "metadata": {}
        }
      ],
      "source": [
        "ax = sns.barplot(x='Category', y='Sales', data=data_summary).set(title=\"Category wise Sales\")"
      ]
    },
    {
      "cell_type": "markdown",
      "source": [
        "Here we show all the product categories and the amount of profit it made."
      ],
      "metadata": {
        "id": "4chc_FCI36Yh"
      }
    },
    {
      "cell_type": "code",
      "execution_count": 40,
      "metadata": {
        "colab": {
          "base_uri": "https://localhost:8080/",
          "height": 295
        },
        "id": "DX7VHiWOWTEk",
        "outputId": "82d87dca-9c63-4b00-949b-f746e046b157"
      },
      "outputs": [
        {
          "output_type": "display_data",
          "data": {
            "text/plain": [
              "<Figure size 432x288 with 1 Axes>"
            ],
            "image/png": "[encoded data removed]"
          },
          "metadata": {}
        }
      ],
      "source": [
        "ax = sns.barplot(x='Category', y='Profit', data=data_summary).set(title=\"Category wise Profit\")"
      ]
    },
    {
      "cell_type": "markdown",
      "metadata": {
        "id": "mQmmna2mW2Lt"
      },
      "source": [
        "### 1.5.3 : Most Sold/Profitable Sub-Category"
      ]
    },
    {
      "cell_type": "markdown",
      "source": [
        "In this section, we'll discover which product sub-category sold the most and which made the most profit."
      ],
      "metadata": {
        "id": "BFnlQewG4Kq7"
      }
    },
    {
      "cell_type": "code",
      "execution_count": 41,
      "metadata": {
        "id": "54HwfXC6W2L9"
      },
      "outputs": [],
      "source": [
        "data_summary = dataset.groupby(['Sub-Category']).sum().reset_index()"
      ]
    },
    {
      "cell_type": "markdown",
      "source": [
        "Here we show all the product sub-categories and the amount of sell it generated."
      ],
      "metadata": {
        "id": "jIezaDP84Osb"
      }
    },
    {
      "cell_type": "code",
      "execution_count": 42,
      "metadata": {
        "colab": {
          "base_uri": "https://localhost:8080/",
          "height": 295
        },
        "id": "IytO_AkwW2L-",
        "outputId": "81f8c8cd-8f72-4642-9820-2eb029e2d0c3"
      },
      "outputs": [
        {
          "output_type": "display_data",
          "data": {
            "text/plain": [
              "<Figure size 432x288 with 1 Axes>"
            ],
            "image/png": "[encoded data removed]"
          },
          "metadata": {}
        }
      ],
      "source": [
        "ax = sns.barplot(y='Sub-Category', x='Sales', data=data_summary).set(title=\"Sub-Category wise Sales\")"
      ]
    },
    {
      "cell_type": "markdown",
      "source": [
        "Here we show all the product sub-categories and the amount of profit it made."
      ],
      "metadata": {
        "id": "L1lfiapf4VPL"
      }
    },
    {
      "cell_type": "code",
      "execution_count": 43,
      "metadata": {
        "colab": {
          "base_uri": "https://localhost:8080/",
          "height": 295
        },
        "id": "z_ndFzZVW2L-",
        "outputId": "5added41-d498-404d-c988-985300d33a7a"
      },
      "outputs": [
        {
          "output_type": "display_data",
          "data": {
            "text/plain": [
              "<Figure size 432x288 with 1 Axes>"
            ],
            "image/png": "[encoded data removed]"
          },
          "metadata": {}
        }
      ],
      "source": [
        "ax = sns.barplot(y='Sub-Category', x='Profit', data=data_summary).set(title=\"Sub-Category wise Profit\")"
      ]
    },
    {
      "cell_type": "markdown",
      "metadata": {
        "id": "Li6Sxg7oXSAW"
      },
      "source": [
        "### 1.5.4 : Most Profitable Country"
      ]
    },
    {
      "cell_type": "markdown",
      "source": [
        "In this section, we'll discover which country generated more sales and profit."
      ],
      "metadata": {
        "id": "hiUTUT-N7E99"
      }
    },
    {
      "cell_type": "code",
      "execution_count": 44,
      "metadata": {
        "id": "DvNKVSq5XSA1"
      },
      "outputs": [],
      "source": [
        "data_summary = dataset.groupby(['Country']).sum().reset_index()"
      ]
    },
    {
      "cell_type": "markdown",
      "source": [
        "The top 10 countries with the highest sales are shown below."
      ],
      "metadata": {
        "id": "vVSj-Gmu7TFl"
      }
    },
    {
      "cell_type": "code",
      "execution_count": 45,
      "metadata": {
        "colab": {
          "base_uri": "https://localhost:8080/",
          "height": 295
        },
        "id": "WeFLrXshXSA2",
        "outputId": "ea61c35d-fdc9-4869-fc9d-ee25588a6336"
      },
      "outputs": [
        {
          "output_type": "display_data",
          "data": {
            "text/plain": [
              "<Figure size 432x288 with 1 Axes>"
            ],
            "image/png": "[encoded data removed]"
          },
          "metadata": {}
        }
      ],
      "source": [
        "data_summary_temp = data_summary.sort_values('Sales', ascending=False).head(10)\n",
        "ax = sns.barplot(y='Country', x='Sales', data=data_summary_temp).set(title=\"Country wise Profit\")"
      ]
    },
    {
      "cell_type": "markdown",
      "source": [
        "The top 10 countries with the highest profit are shown below."
      ],
      "metadata": {
        "id": "qAADDf--7W8Q"
      }
    },
    {
      "cell_type": "code",
      "execution_count": 46,
      "metadata": {
        "colab": {
          "base_uri": "https://localhost:8080/",
          "height": 295
        },
        "id": "KKMTHEWsXSA3",
        "outputId": "45c5f7dd-0867-4acc-a0f4-e823fc6e2488"
      },
      "outputs": [
        {
          "output_type": "display_data",
          "data": {
            "text/plain": [
              "<Figure size 432x288 with 1 Axes>"
            ],
            "image/png": "[encoded data removed]"
          },
          "metadata": {}
        }
      ],
      "source": [
        "data_summary_temp = data_summary.sort_values('Profit', ascending=False).head(10)\n",
        "ax = sns.barplot(y='Country', x='Profit', data=data_summary_temp).set(title=\"Country wise Profit\")"
      ]
    },
    {
      "cell_type": "markdown",
      "metadata": {
        "id": "FowdVDRtXWCD"
      },
      "source": [
        "### 1.5.5 : Most Profitable Region"
      ]
    },
    {
      "cell_type": "markdown",
      "source": [
        "In this section, we'll discover which region generated more sales and profit."
      ],
      "metadata": {
        "id": "mS8o-PXz7nRT"
      }
    },
    {
      "cell_type": "code",
      "execution_count": 47,
      "metadata": {
        "id": "cukaG6J8XWCE"
      },
      "outputs": [],
      "source": [
        "data_summary = dataset.groupby(['Region']).sum().reset_index()"
      ]
    },
    {
      "cell_type": "markdown",
      "source": [
        "The top 10 regions with the highest sales are shown below."
      ],
      "metadata": {
        "id": "7ZJoXVoE7xpO"
      }
    },
    {
      "cell_type": "code",
      "execution_count": 48,
      "metadata": {
        "colab": {
          "base_uri": "https://localhost:8080/",
          "height": 295
        },
        "id": "cP3AblXiXWCF",
        "outputId": "8a720a30-997a-483f-e0f4-c982569b02cb"
      },
      "outputs": [
        {
          "output_type": "display_data",
          "data": {
            "text/plain": [
              "<Figure size 432x288 with 1 Axes>"
            ],
            "image/png": "[encoded data removed]"
          },
          "metadata": {}
        }
      ],
      "source": [
        "ax = sns.barplot(y='Region', x='Sales', data=data_summary).set(title=\"Region wise Sales\")"
      ]
    },
    {
      "cell_type": "markdown",
      "source": [
        "The top 10 regions with the highest profit are shown below."
      ],
      "metadata": {
        "id": "pfzvlqNL7zUE"
      }
    },
    {
      "cell_type": "code",
      "execution_count": 49,
      "metadata": {
        "colab": {
          "base_uri": "https://localhost:8080/",
          "height": 295
        },
        "id": "ASXaDd__XWCG",
        "outputId": "3eadca09-e50c-4fa2-aabd-6ddb85c91429"
      },
      "outputs": [
        {
          "output_type": "display_data",
          "data": {
            "text/plain": [
              "<Figure size 432x288 with 1 Axes>"
            ],
            "image/png": "[encoded data removed]"
          },
          "metadata": {}
        }
      ],
      "source": [
        "ax = sns.barplot(y='Region', x='Profit', data=data_summary).set(title=\"Region wise Profit\")"
      ]
    },
    {
      "cell_type": "markdown",
      "source": [
        "### 1.5.6 : Monthly Sales"
      ],
      "metadata": {
        "id": "jg0dSwCl8GQ_"
      }
    },
    {
      "cell_type": "markdown",
      "source": [
        "In this section, we plot line chart showing the trends of sales and profit for each month over the period of four years for given dataset."
      ],
      "metadata": {
        "id": "cJ6ZjswR81Vx"
      }
    },
    {
      "cell_type": "code",
      "source": [
        "dataset['Order Date'] = pd.to_datetime(dataset['Order Date'], infer_datetime_format=True)\n",
        "dataset[\"Ship Date\"] = pd.to_datetime(dataset[\"Ship Date\"], infer_datetime_format=True)"
      ],
      "metadata": {
        "id": "yBxPbGK0tf7R"
      },
      "execution_count": 50,
      "outputs": []
    },
    {
      "cell_type": "code",
      "execution_count": 51,
      "metadata": {
        "id": "flSd_pUHGHy7"
      },
      "outputs": [],
      "source": [
        "dataset['Month_Year'] = dataset['Order Date'].dt.to_period('M')\n",
        "dataset['Month_Year'] = dataset['Month_Year'].astype(str)"
      ]
    },
    {
      "cell_type": "code",
      "execution_count": 52,
      "metadata": {
        "id": "tB0yglvsGMjM"
      },
      "outputs": [],
      "source": [
        "data_summary = dataset.groupby(['Month_Year']).sum().reset_index()"
      ]
    },
    {
      "cell_type": "markdown",
      "source": [
        "1. Here we plot line chart of monthly sales."
      ],
      "metadata": {
        "id": "eg3L-6OD9LUO"
      }
    },
    {
      "cell_type": "code",
      "execution_count": 55,
      "metadata": {
        "colab": {
          "base_uri": "https://localhost:8080/",
          "height": 402
        },
        "id": "HMIHktAbRGDF",
        "outputId": "e6064169-af57-4044-def2-4408fc95d1a5"
      },
      "outputs": [
        {
          "output_type": "execute_result",
          "data": {
            "text/plain": [
              "[Text(0.5, 1.0, 'Month wise Sales')]"
            ]
          },
          "metadata": {},
          "execution_count": 55
        },
        {
          "output_type": "display_data",
          "data": {
            "text/plain": [
              "<Figure size 1296x432 with 1 Axes>"
            ],
            "image/png": "[encoded data removed]"
          },
          "metadata": {}
        }
      ],
      "source": [
        "sns.set(rc={'figure.figsize':(18, 6)})\n",
        "ax = sns.lineplot(x='Month_Year', y='Sales', data=data_summary)\n",
        "ax.tick_params(axis='x', rotation=50)\n",
        "ax.set(title=\"Month wise Sales\")"
      ]
    },
    {
      "cell_type": "markdown",
      "source": [
        "2. Here we plot line chart of monthly profits."
      ],
      "metadata": {
        "id": "BucX1_GG9SRF"
      }
    },
    {
      "cell_type": "code",
      "execution_count": 56,
      "metadata": {
        "colab": {
          "base_uri": "https://localhost:8080/",
          "height": 405
        },
        "id": "twXb553Ux_UQ",
        "outputId": "7080a35e-2baf-4a71-c74b-41073976b6fb"
      },
      "outputs": [
        {
          "output_type": "execute_result",
          "data": {
            "text/plain": [
              "[Text(0.5, 1.0, 'Month wise Profit')]"
            ]
          },
          "metadata": {},
          "execution_count": 56
        },
        {
          "output_type": "display_data",
          "data": {
            "text/plain": [
              "<Figure size 1296x432 with 1 Axes>"
            ],
            "image/png": "[encoded data removed]"
          },
          "metadata": {}
        }
      ],
      "source": [
        "ax = sns.lineplot(x='Month_Year', y='Profit', data=data_summary)\n",
        "ax.tick_params(axis='x', rotation=50)\n",
        "ax.set(title=\"Month wise Profit\")"
      ]
    },
    {
      "cell_type": "markdown",
      "source": [
        "# Part 2 : Modeling"
      ],
      "metadata": {
        "id": "wpGoMCMp9XmC"
      }
    },
    {
      "cell_type": "markdown",
      "source": [
        "## 2.1 : Base Models"
      ],
      "metadata": {
        "id": "LaL0F8fh9dm5"
      }
    },
    {
      "cell_type": "markdown",
      "source": [
        "In this section, we will be predicting monthly sales for last one year based on the monthly sales data we have collected for previous three years.\n",
        "* We will employ very simple models such as Linear Regression, Random Forest Regressor and Ridge Regressor.\n",
        "* After that, we will compare performance of each of these three models with each other."
      ],
      "metadata": {
        "id": "E-Lv71Fk9jED"
      }
    },
    {
      "cell_type": "markdown",
      "source": [
        "### 2.1.1 : Preprocessing for Modeling"
      ],
      "metadata": {
        "id": "AxYSsmKk-W-2"
      }
    },
    {
      "cell_type": "markdown",
      "source": [
        "1. We will add new features such as \"Order_Month\", \"Order_Year\" and to decompose our \"Month_Year\" feature into number of numerical features. "
      ],
      "metadata": {
        "id": "sUE92M4n-vY4"
      }
    },
    {
      "cell_type": "code",
      "source": [
        "dataset_final = dataset\n",
        "dataset_final['Order_Year'] = dataset['Order Date'].dt.year\n",
        "dataset_final['Order_Month'] = dataset['Order Date'].dt.month"
      ],
      "metadata": {
        "id": "vzlc0vUcD3NJ"
      },
      "execution_count": 477,
      "outputs": []
    },
    {
      "cell_type": "markdown",
      "source": [
        "2. Aggregate dataset based on \"Month_Year\" column.\n",
        "    * We sum features such as \"Sales\", \"Quantity\", \"Profit\", \"Discount\", and \"Shipping cost\".\n",
        "    * We take mean of features such as \"Order_Month\" and \"Order_Year\"."
      ],
      "metadata": {
        "id": "SC5lFIS-IBDb"
      }
    },
    {
      "cell_type": "code",
      "execution_count": 478,
      "metadata": {
        "id": "KVEWQQ6NDmuB"
      },
      "outputs": [],
      "source": [
        "dataset_final = dataset.groupby(['Month_Year']).agg({\"Sales\": np.sum, \"Quantity\": np.sum, \"Profit\": np.sum, \"Discount\": np.sum, \"Shipping Cost\": np.sum, \"Order_Month\": np.mean, \"Order_Year\": np.mean}).reset_index()"
      ]
    },
    {
      "cell_type": "code",
      "source": [
        "dataset_final['Order_Year'] = dataset_final['Order_Year'].astype(str)\n",
        "dataset_final['Order_Month'] = dataset_final['Order_Month'].astype(str)"
      ],
      "metadata": {
        "id": "We-YVg8YHNde"
      },
      "execution_count": 479,
      "outputs": []
    },
    {
      "cell_type": "markdown",
      "source": [
        "3. Now, we convert categorical features to continuous features for modeling."
      ],
      "metadata": {
        "id": "ZlZuTAKTImJJ"
      }
    },
    {
      "cell_type": "code",
      "source": [
        "# Convert Categorical features to continuous feature\n",
        "lstFeatures = ['Order_Year', 'Order_Month']\n",
        "lstFeaturesPrefix = ['order_year', 'order_month']\n",
        "\n",
        "for featureName, featurePrefix in zip(lstFeatures, lstFeaturesPrefix):\n",
        "    column_data = pd.get_dummies(dataset_final[featureName], prefix=featurePrefix)\n",
        "    dataset_final = dataset_final.drop(featureName, axis=1)\n",
        "    dataset_final = pd.concat((dataset_final, column_data), axis=1)\n",
        "\n",
        "dataset_final = dataset_final.convert_dtypes()"
      ],
      "metadata": {
        "id": "_hcNudWTB8S2"
      },
      "execution_count": 480,
      "outputs": []
    },
    {
      "cell_type": "markdown",
      "source": [
        "4. Select all the numeric column for generating models."
      ],
      "metadata": {
        "id": "CKZQsts5IyDb"
      }
    },
    {
      "cell_type": "code",
      "execution_count": 481,
      "metadata": {
        "id": "LzGNM14J4IF0"
      },
      "outputs": [],
      "source": [
        "lst_cont_features = dataset_final.select_dtypes(\"number\").columns\n",
        "dataset_final = dataset_final[lst_cont_features]"
      ]
    },
    {
      "cell_type": "markdown",
      "source": [
        "5. Create train and test datasets. We use data between year 2011 and 2013 as train dataset and data of year 2014 as test dataset."
      ],
      "metadata": {
        "id": "a6NN5MwsI4sg"
      }
    },
    {
      "cell_type": "code",
      "execution_count": 482,
      "metadata": {
        "id": "YslW6CtO4iCq"
      },
      "outputs": [],
      "source": [
        "dataset_final_y = np.array(dataset_final[\"Profit\"])\n",
        "dataset_final_X = dataset_final.drop('Profit', axis = 1)\n",
        "\n",
        "X_train = dataset_final_X[dataset_final_X['order_year_2014.0'] != 1]\n",
        "y_train = dataset_final_y[:len(X_train)]\n",
        "X_test = dataset_final_X[dataset_final_X['order_year_2014.0'] == 1]\n",
        "y_test = dataset_final_y[-len(X_test):]"
      ]
    },
    {
      "cell_type": "markdown",
      "source": [
        "6. Now, we normalize the feature values to achieve better generalization."
      ],
      "metadata": {
        "id": "h5kh0itYJFOB"
      }
    },
    {
      "cell_type": "code",
      "execution_count": 483,
      "metadata": {
        "id": "Bxwz4_NS4zrB"
      },
      "outputs": [],
      "source": [
        "input_scaler = StandardScaler()\n",
        "input_scaler.fit(X_train)\n",
        "X_train = input_scaler.transform(X_train)\n",
        "X_test = input_scaler.transform(X_test)\n",
        "\n",
        "target_scaler = MinMaxScaler()\n",
        "target_scaler.fit(y_train.reshape(-1, 1))\n",
        "y_train = target_scaler.transform(y_train.reshape(-1, 1)).squeeze()\n",
        "y_test = target_scaler.transform(y_test.reshape(-1, 1)).squeeze()"
      ]
    },
    {
      "cell_type": "markdown",
      "source": [
        "### 2.1.2 : Model 1 : Linear Regression"
      ],
      "metadata": {
        "id": "eGyqVPbeJWuh"
      }
    },
    {
      "cell_type": "markdown",
      "source": [
        "Now, we employ our first model, Linear Regression, on the  training dataset."
      ],
      "metadata": {
        "id": "_xKkLwI8JchR"
      }
    },
    {
      "cell_type": "code",
      "execution_count": 484,
      "metadata": {
        "colab": {
          "base_uri": "https://localhost:8080/"
        },
        "id": "A9uczsO74nIU",
        "outputId": "ce8b08e4-f9c6-4fd0-9c5c-d858259a070a"
      },
      "outputs": [
        {
          "output_type": "execute_result",
          "data": {
            "text/plain": [
              "LinearRegression()"
            ]
          },
          "metadata": {},
          "execution_count": 484
        }
      ],
      "source": [
        "lModel = LinearRegression()\n",
        "lModel.fit(X_train, y_train)"
      ]
    },
    {
      "cell_type": "markdown",
      "source": [
        "To evaluate the performance of the Linear regression model on the test dataset, we have used \"Mean Square Error\" and \"R2-score\" evaluation metrics."
      ],
      "metadata": {
        "id": "jum6IDOUJ-Vb"
      }
    },
    {
      "cell_type": "code",
      "execution_count": 485,
      "metadata": {
        "colab": {
          "base_uri": "https://localhost:8080/"
        },
        "id": "12VWgPCx5Jy2",
        "outputId": "c78118c7-fca3-4904-9102-10e3f4f20f7e"
      },
      "outputs": [
        {
          "output_type": "stream",
          "name": "stdout",
          "text": [
            "0.056437999116693054\n",
            "0.0015343585744063137\n"
          ]
        }
      ],
      "source": [
        "y_test_pred_lmodel = lModel.predict(X_test)\n",
        "print(mean_squared_error(y_test, y_test_pred_lmodel))\n",
        "print(r2_score(y_test, y_test_pred_lmodel))"
      ]
    },
    {
      "cell_type": "markdown",
      "source": [
        "Here, we show the learning curve of Linear Regression Model."
      ],
      "metadata": {
        "id": "vcK6quzQOBtH"
      }
    },
    {
      "cell_type": "code",
      "source": [
        "# Learning curves\n",
        "train_sizes, train_scores, test_scores, fit_times, _ = learning_curve(lModel, X_train, y_train, cv=4, return_times=True)\n",
        "plt.plot(train_sizes, np.mean(train_scores,axis=1))\n",
        "plt.xlabel('Cross validation set')\n",
        "plt.ylabel('Traning score')\n",
        "plt.title('Cross validation set vs. Traning score')\n",
        "plt.show()"
      ],
      "metadata": {
        "colab": {
          "base_uri": "https://localhost:8080/",
          "height": 364
        },
        "id": "NOCzVM9ROLYr",
        "outputId": "1b9baff1-3fdb-4837-adae-924f04bf8e40"
      },
      "execution_count": 486,
      "outputs": [
        {
          "output_type": "display_data",
          "data": {
            "text/plain": [
              "<Figure size 1296x432 with 1 Axes>"
            ],
            "image/png": "[encoded data removed]"
          },
          "metadata": {}
        }
      ]
    },
    {
      "cell_type": "markdown",
      "source": [
        "### 2.1.3 : Model 2 : Ridge Regression"
      ],
      "metadata": {
        "id": "fQEbYuQ2KUWc"
      }
    },
    {
      "cell_type": "markdown",
      "source": [
        "Now, we employ our second model, Ridge Regression, on the  training dataset."
      ],
      "metadata": {
        "id": "vy48Vy5mKyYu"
      }
    },
    {
      "cell_type": "code",
      "execution_count": 487,
      "metadata": {
        "colab": {
          "base_uri": "https://localhost:8080/"
        },
        "id": "fvdlY6PWhlbN",
        "outputId": "4052ba6f-a236-462f-9c2a-abbcf58a6984"
      },
      "outputs": [
        {
          "output_type": "execute_result",
          "data": {
            "text/plain": [
              "Ridge(alpha=1)"
            ]
          },
          "metadata": {},
          "execution_count": 487
        }
      ],
      "source": [
        "rModel = Ridge(alpha=1)\n",
        "rModel.fit(X_train, y_train)"
      ]
    },
    {
      "cell_type": "markdown",
      "source": [
        "To evaluate the performance of the Ridge regression model on the test dataset, we have used \"Mean Square Error\" and \"R2-score\" evaluation metrics."
      ],
      "metadata": {
        "id": "NoPcxo-kK3ss"
      }
    },
    {
      "cell_type": "code",
      "execution_count": 488,
      "metadata": {
        "colab": {
          "base_uri": "https://localhost:8080/"
        },
        "id": "dXtaMRXlhy85",
        "outputId": "9f84c7d7-2be6-4081-b467-baa17ae07dd2"
      },
      "outputs": [
        {
          "output_type": "stream",
          "name": "stdout",
          "text": [
            "0.05290516163650519\n",
            "0.06403510090963249\n"
          ]
        }
      ],
      "source": [
        "y_test_pred_rModel = rModel.predict(X_test)\n",
        "print(mean_squared_error(y_test, y_test_pred_rModel))\n",
        "print(r2_score(y_test, y_test_pred_rModel))"
      ]
    },
    {
      "cell_type": "markdown",
      "source": [
        "Here, we show the learning curve of Ridge Regression Model."
      ],
      "metadata": {
        "id": "B4LNcQ1KNxqT"
      }
    },
    {
      "cell_type": "code",
      "source": [
        "# Learning curves\n",
        "train_sizes, train_scores, test_scores, fit_times, _ = learning_curve(rModel, X_train, y_train, cv=4, return_times=True)\n",
        "plt.plot(train_sizes, np.mean(train_scores,axis=1))\n",
        "plt.xlabel('Cross validation set')\n",
        "plt.ylabel('Traning score')\n",
        "plt.title('Cross validation set vs. Traning score')\n",
        "plt.show()"
      ],
      "metadata": {
        "colab": {
          "base_uri": "https://localhost:8080/",
          "height": 364
        },
        "id": "WbENW-0vN60L",
        "outputId": "d81d4512-90b7-4341-db1b-47436f4421e2"
      },
      "execution_count": 489,
      "outputs": [
        {
          "output_type": "display_data",
          "data": {
            "text/plain": [
              "<Figure size 1296x432 with 1 Axes>"
            ],
            "image/png": "[encoded data removed]"
          },
          "metadata": {}
        }
      ]
    },
    {
      "cell_type": "markdown",
      "source": [
        "### 2.1.4 : Model 3 : Random Forest Regression"
      ],
      "metadata": {
        "id": "-tPeid3-LmT9"
      }
    },
    {
      "cell_type": "markdown",
      "source": [
        "Now, we employ our third model, Random Forest Regression, on the training dataset."
      ],
      "metadata": {
        "id": "XrtobwvQL5YD"
      }
    },
    {
      "cell_type": "code",
      "execution_count": 490,
      "metadata": {
        "colab": {
          "base_uri": "https://localhost:8080/"
        },
        "id": "vczhHTkeXyH4",
        "outputId": "7b9c9559-cd26-420f-8d2e-43ca274008db"
      },
      "outputs": [
        {
          "output_type": "execute_result",
          "data": {
            "text/plain": [
              "RandomForestRegressor(n_estimators=10, random_state=42)"
            ]
          },
          "metadata": {},
          "execution_count": 490
        }
      ],
      "source": [
        "rfrModel = RandomForestRegressor(n_estimators=10, random_state=42)\n",
        "rfrModel.fit(X_train, y_train)"
      ]
    },
    {
      "cell_type": "markdown",
      "source": [
        "To evaluate the performance of the Random Forest Regression model on the test dataset, we have used \"Mean Square Error\" and \"R2-score\" evaluation metrics."
      ],
      "metadata": {
        "id": "GDhs8AEiL24m"
      }
    },
    {
      "cell_type": "code",
      "execution_count": 491,
      "metadata": {
        "colab": {
          "base_uri": "https://localhost:8080/"
        },
        "id": "Ote__PglYSzs",
        "outputId": "e0fcc8ac-4eaf-4daf-9cbf-d3d5fb5424b6"
      },
      "outputs": [
        {
          "output_type": "stream",
          "name": "stdout",
          "text": [
            "0.014004444875898614\n",
            "0.7522421550255199\n"
          ]
        }
      ],
      "source": [
        "y_test_pred_rfrModel = rfrModel.predict(X_test)\n",
        "print(mean_squared_error(y_test, y_test_pred_rfrModel))\n",
        "print(r2_score(y_test, y_test_pred_rfrModel))"
      ]
    },
    {
      "cell_type": "markdown",
      "source": [
        "Here, we show the learning curve of Random Forest Regressor Model."
      ],
      "metadata": {
        "id": "5VdaRFgQNPTj"
      }
    },
    {
      "cell_type": "code",
      "source": [
        "# Learning curves\n",
        "train_sizes, train_scores, test_scores, fit_times, _ = learning_curve(rfrModel, X_train, y_train, cv=4, return_times=True)\n",
        "plt.plot(train_sizes, np.mean(train_scores,axis=1))\n",
        "plt.xlabel('Cross validation set')\n",
        "plt.ylabel('Traning score')\n",
        "plt.title('Cross validation set vs. Traning score')\n",
        "plt.show()"
      ],
      "metadata": {
        "colab": {
          "base_uri": "https://localhost:8080/",
          "height": 364
        },
        "id": "MqnmYNNSM-tR",
        "outputId": "3180622b-284b-4cb2-e7c1-007ed3948cd3"
      },
      "execution_count": 492,
      "outputs": [
        {
          "output_type": "display_data",
          "data": {
            "text/plain": [
              "<Figure size 1296x432 with 1 Axes>"
            ],
            "image/png": "[encoded data removed]"
          },
          "metadata": {}
        }
      ]
    },
    {
      "cell_type": "markdown",
      "source": [
        "## 2.2 : SARIMA Model"
      ],
      "metadata": {
        "id": "g0ovo-Dh7NNA"
      }
    },
    {
      "cell_type": "markdown",
      "source": [
        "A seasonal autoregressive integrated moving average (SARIMA) model is time series forecating model based on the concept of seasonal trends."
      ],
      "metadata": {
        "id": "TeNKr_rkPtDL"
      }
    },
    {
      "cell_type": "markdown",
      "source": [
        "### 2.2.1 : Preprocessing for Modeling"
      ],
      "metadata": {
        "id": "jpA2hfs8MhM7"
      }
    },
    {
      "cell_type": "markdown",
      "source": [
        "1. First, we set \"Order Date\" as index of our dataset for modeling"
      ],
      "metadata": {
        "id": "hdcMXxauPSqJ"
      }
    },
    {
      "cell_type": "code",
      "source": [
        "dataset_final = dataset.set_index(\"Order Date\")\n",
        "dataset_final = pd.DataFrame(dataset_final['Sales'])"
      ],
      "metadata": {
        "id": "DlYWfIkeDPTZ"
      },
      "execution_count": 493,
      "outputs": []
    },
    {
      "cell_type": "markdown",
      "source": [
        "2. Now, we need to check whether our data is stationary or not with time. Let us perform some stationarity tests to check whether the time series is stationary or not."
      ],
      "metadata": {
        "id": "ob5JUJdDQBDl"
      }
    },
    {
      "cell_type": "code",
      "source": [
        "dataset_final =  pd.DataFrame(dataset_final['Sales'].resample('D').mean())\n",
        "dataset_final.fillna(0, inplace=True)\n",
        "dataset_final['Sales'] = dataset_final['Sales'].astype(np.float64)\n",
        "dataset_final['Sales'] = dataset_final['Sales'].interpolate(method='linear')"
      ],
      "metadata": {
        "id": "gChq8TdKEqs3"
      },
      "execution_count": 494,
      "outputs": []
    },
    {
      "cell_type": "code",
      "source": [
        "from statsmodels.tsa.stattools import adfuller \n",
        "\n",
        "adf = adfuller(dataset_final['Sales'].values) \n",
        "print(adf)\n",
        "\n",
        "print('\\nADF = ', str(adf[0]))\n",
        "print('\\np-value = ', str(adf[1]))\n",
        "print('\\nCritical Values: ')\n",
        "for key, val in adf[4].items():\n",
        "    print(key,':',val)\n",
        "    if adf[0] < val:\n",
        "        print('Null Hypothesis Rejected. Time Series is Stationary')\n",
        "    else:\n",
        "        print('Null Hypothesis Accepted. Time Series is not Stationary')"
      ],
      "metadata": {
        "colab": {
          "base_uri": "https://localhost:8080/"
        },
        "id": "n1BS1pdSJRyq",
        "outputId": "4d6f6f8c-3cc8-484c-d713-65f0ad5ffb18"
      },
      "execution_count": 495,
      "outputs": [
        {
          "output_type": "stream",
          "name": "stdout",
          "text": [
            "(-39.389135446958576, 0.0, 0, 1460, {'1%': -3.434836872962171, '5%': -2.863521656701378, '10%': -2.567825016419591}, 17734.494652657602)\n",
            "\n",
            "ADF =  -39.389135446958576\n",
            "\n",
            "p-value =  0.0\n",
            "\n",
            "Critical Values: \n",
            "1% : -3.434836872962171\n",
            "Null Hypothesis Rejected. Time Series is Stationary\n",
            "5% : -2.863521656701378\n",
            "Null Hypothesis Rejected. Time Series is Stationary\n",
            "10% : -2.567825016419591\n",
            "Null Hypothesis Rejected. Time Series is Stationary\n"
          ]
        }
      ]
    },
    {
      "cell_type": "markdown",
      "source": [
        "Now we know that our data is stationary. Let us start building model for our \"Sales\" prediction data."
      ],
      "metadata": {
        "id": "6jkHBZKjQVlN"
      }
    },
    {
      "cell_type": "markdown",
      "source": [
        "### 2.2.2 : Modeling"
      ],
      "metadata": {
        "id": "lDsBtV57QmjX"
      }
    },
    {
      "cell_type": "markdown",
      "source": [
        "SARIMA requires selecting hyperparameters for both the trend and seasonal elements of the series.\n",
        " * Trend Elements There are three trend elements.\n",
        " * Seasonal Elements There are four seasonal elements.\n",
        "\n",
        " So, now let us select these hyperparameters."
      ],
      "metadata": {
        "id": "mnZjeQYnQqeI"
      }
    },
    {
      "cell_type": "code",
      "source": [
        "p = d = q = range(0, 2) \n",
        "pdq = list(itertools.product(p, d, q))\n",
        "seasonal_pdq_comb = [(i[0], i[1], i[2], 12) for i in list(itertools.product(p, d, q))]\n",
        "\n",
        "for parameters in pdq: \n",
        "    for seasonal_param in seasonal_pdq_comb:\n",
        "        try:\n",
        "            mod = sm.tsa.statespace.SARIMAX(dataset_final,\n",
        "                                            order=parameters,\n",
        "                                            seasonal_param_order=seasonal_param,\n",
        "                                            enforce_stationarity=False,\n",
        "                                            enforce_invertibility=False)\n",
        "            results = mod.fit()\n",
        "            print('SARIMA{}x{}12 - AIC:{}'.format(parameters, seasonal_param, results.aic))\n",
        "        except:\n",
        "            continue"
      ],
      "metadata": {
        "colab": {
          "base_uri": "https://localhost:8080/"
        },
        "id": "LQ423KqJKef1",
        "outputId": "c507f883-15f2-4050-929f-855158bdcd52"
      },
      "execution_count": 496,
      "outputs": [
        {
          "output_type": "stream",
          "name": "stdout",
          "text": [
            "SARIMA(0, 0, 0)x(0, 0, 0, 12)12 - AIC:20428.578197608218\n",
            "SARIMA(0, 0, 0)x(0, 0, 1, 12)12 - AIC:20428.578197608218\n",
            "SARIMA(0, 0, 0)x(0, 1, 0, 12)12 - AIC:20428.578197608218\n",
            "SARIMA(0, 0, 0)x(0, 1, 1, 12)12 - AIC:20428.578197608218\n",
            "SARIMA(0, 0, 0)x(1, 0, 0, 12)12 - AIC:20428.578197608218\n",
            "SARIMA(0, 0, 0)x(1, 0, 1, 12)12 - AIC:20428.578197608218\n",
            "SARIMA(0, 0, 0)x(1, 1, 0, 12)12 - AIC:20428.578197608218\n",
            "SARIMA(0, 0, 0)x(1, 1, 1, 12)12 - AIC:20428.578197608218\n",
            "SARIMA(0, 0, 1)x(0, 0, 0, 12)12 - AIC:19731.31464319729\n",
            "SARIMA(0, 0, 1)x(0, 0, 1, 12)12 - AIC:19731.31464319729\n",
            "SARIMA(0, 0, 1)x(0, 1, 0, 12)12 - AIC:19731.31464319729\n",
            "SARIMA(0, 0, 1)x(0, 1, 1, 12)12 - AIC:19731.31464319729\n",
            "SARIMA(0, 0, 1)x(1, 0, 0, 12)12 - AIC:19731.31464319729\n",
            "SARIMA(0, 0, 1)x(1, 0, 1, 12)12 - AIC:19731.31464319729\n",
            "SARIMA(0, 0, 1)x(1, 1, 0, 12)12 - AIC:19731.31464319729\n",
            "SARIMA(0, 0, 1)x(1, 1, 1, 12)12 - AIC:19731.31464319729\n",
            "SARIMA(0, 1, 0)x(0, 0, 0, 12)12 - AIC:19063.555383943276\n",
            "SARIMA(0, 1, 0)x(0, 0, 1, 12)12 - AIC:19063.555383943276\n",
            "SARIMA(0, 1, 0)x(0, 1, 0, 12)12 - AIC:19063.555383943276\n",
            "SARIMA(0, 1, 0)x(0, 1, 1, 12)12 - AIC:19063.555383943276\n",
            "SARIMA(0, 1, 0)x(1, 0, 0, 12)12 - AIC:19063.555383943276\n",
            "SARIMA(0, 1, 0)x(1, 0, 1, 12)12 - AIC:19063.555383943276\n",
            "SARIMA(0, 1, 0)x(1, 1, 0, 12)12 - AIC:19063.555383943276\n",
            "SARIMA(0, 1, 0)x(1, 1, 1, 12)12 - AIC:19063.555383943276\n",
            "SARIMA(0, 1, 1)x(0, 0, 0, 12)12 - AIC:18003.79968440434\n",
            "SARIMA(0, 1, 1)x(0, 0, 1, 12)12 - AIC:18003.79968440434\n",
            "SARIMA(0, 1, 1)x(0, 1, 0, 12)12 - AIC:18003.79968440434\n",
            "SARIMA(0, 1, 1)x(0, 1, 1, 12)12 - AIC:18003.79968440434\n",
            "SARIMA(0, 1, 1)x(1, 0, 0, 12)12 - AIC:18003.79968440434\n",
            "SARIMA(0, 1, 1)x(1, 0, 1, 12)12 - AIC:18003.79968440434\n",
            "SARIMA(0, 1, 1)x(1, 1, 0, 12)12 - AIC:18003.79968440434\n",
            "SARIMA(0, 1, 1)x(1, 1, 1, 12)12 - AIC:18003.79968440434\n",
            "SARIMA(1, 0, 0)x(0, 0, 0, 12)12 - AIC:18925.64740018921\n",
            "SARIMA(1, 0, 0)x(0, 0, 1, 12)12 - AIC:18925.64740018921\n",
            "SARIMA(1, 0, 0)x(0, 1, 0, 12)12 - AIC:18925.64740018921\n",
            "SARIMA(1, 0, 0)x(0, 1, 1, 12)12 - AIC:18925.64740018921\n",
            "SARIMA(1, 0, 0)x(1, 0, 0, 12)12 - AIC:18925.64740018921\n",
            "SARIMA(1, 0, 0)x(1, 0, 1, 12)12 - AIC:18925.64740018921\n",
            "SARIMA(1, 0, 0)x(1, 1, 0, 12)12 - AIC:18925.64740018921\n",
            "SARIMA(1, 0, 0)x(1, 1, 1, 12)12 - AIC:18925.64740018921\n",
            "SARIMA(1, 0, 1)x(0, 0, 0, 12)12 - AIC:18067.90096541608\n",
            "SARIMA(1, 0, 1)x(0, 0, 1, 12)12 - AIC:18067.90096541608\n",
            "SARIMA(1, 0, 1)x(0, 1, 0, 12)12 - AIC:18067.90096541608\n",
            "SARIMA(1, 0, 1)x(0, 1, 1, 12)12 - AIC:18067.90096541608\n",
            "SARIMA(1, 0, 1)x(1, 0, 0, 12)12 - AIC:18067.90096541608\n",
            "SARIMA(1, 0, 1)x(1, 0, 1, 12)12 - AIC:18067.90096541608\n",
            "SARIMA(1, 0, 1)x(1, 1, 0, 12)12 - AIC:18067.90096541608\n",
            "SARIMA(1, 0, 1)x(1, 1, 1, 12)12 - AIC:18067.90096541608\n",
            "SARIMA(1, 1, 0)x(0, 0, 0, 12)12 - AIC:18605.219441573274\n",
            "SARIMA(1, 1, 0)x(0, 0, 1, 12)12 - AIC:18605.219441573274\n",
            "SARIMA(1, 1, 0)x(0, 1, 0, 12)12 - AIC:18605.219441573274\n",
            "SARIMA(1, 1, 0)x(0, 1, 1, 12)12 - AIC:18605.219441573274\n",
            "SARIMA(1, 1, 0)x(1, 0, 0, 12)12 - AIC:18605.219441573274\n",
            "SARIMA(1, 1, 0)x(1, 0, 1, 12)12 - AIC:18605.219441573274\n",
            "SARIMA(1, 1, 0)x(1, 1, 0, 12)12 - AIC:18605.219441573274\n",
            "SARIMA(1, 1, 0)x(1, 1, 1, 12)12 - AIC:18605.219441573274\n",
            "SARIMA(1, 1, 1)x(0, 0, 0, 12)12 - AIC:18004.249080342015\n",
            "SARIMA(1, 1, 1)x(0, 0, 1, 12)12 - AIC:18004.249080342015\n",
            "SARIMA(1, 1, 1)x(0, 1, 0, 12)12 - AIC:18004.249080342015\n",
            "SARIMA(1, 1, 1)x(0, 1, 1, 12)12 - AIC:18004.249080342015\n",
            "SARIMA(1, 1, 1)x(1, 0, 0, 12)12 - AIC:18004.249080342015\n",
            "SARIMA(1, 1, 1)x(1, 0, 1, 12)12 - AIC:18004.249080342015\n",
            "SARIMA(1, 1, 1)x(1, 1, 0, 12)12 - AIC:18004.249080342015\n",
            "SARIMA(1, 1, 1)x(1, 1, 1, 12)12 - AIC:18004.249080342015\n"
          ]
        }
      ]
    },
    {
      "cell_type": "markdown",
      "source": [
        "After choosing the combination of seasonal parameters with least AIC value, let us train the SARIMA model"
      ],
      "metadata": {
        "id": "6DJYGrRVSqci"
      }
    },
    {
      "cell_type": "code",
      "source": [
        "mod = sm.tsa.statespace.SARIMAX(dataset_final,\n",
        "                                order=(1, 1, 1),\n",
        "                                seasonal_order=(1, 1, 1, 12),\n",
        "                                enforce_stationarity=False,\n",
        "                                enforce_invertibility=False) \n",
        "results = mod.fit() \n",
        "print(results.summary().tables[1])"
      ],
      "metadata": {
        "colab": {
          "base_uri": "https://localhost:8080/"
        },
        "id": "LzzjaQtULMYZ",
        "outputId": "30408e35-0d54-400e-d319-df85ede6201d"
      },
      "execution_count": 497,
      "outputs": [
        {
          "output_type": "stream",
          "name": "stdout",
          "text": [
            "==============================================================================\n",
            "                 coef    std err          z      P>|z|      [0.025      0.975]\n",
            "------------------------------------------------------------------------------\n",
            "ar.L1         -0.0350      0.027     -1.294      0.196      -0.088       0.018\n",
            "ma.L1         -1.0000      3.998     -0.250      0.802      -8.836       6.836\n",
            "ar.S.L12       0.0040      0.025      0.157      0.875      -0.045       0.053\n",
            "ma.S.L12      -1.0000      3.996     -0.250      0.802      -8.832       6.832\n",
            "sigma2      1.347e+04      0.000   4.58e+07      0.000    1.35e+04    1.35e+04\n",
            "==============================================================================\n"
          ]
        }
      ]
    },
    {
      "cell_type": "markdown",
      "source": [
        "Now, let us predict the value of \"Sales\" on the next day based on the \"Sales\" of previous day to evaluate the performance of the model."
      ],
      "metadata": {
        "id": "dG112AImS3oW"
      }
    },
    {
      "cell_type": "code",
      "source": [
        "y_pred = results.get_prediction(start=pd.to_datetime('2011-01-01'), dynamic=False)\n",
        "y_pred_val = y_pred.conf_int()\n",
        "\n",
        "ax = dataset_final['2011':].plot(label='observed')\n",
        "y_pred.predicted_mean.plot(ax=ax, label='One-step ahead Forecast', alpha=.7, figsize=(14, 7))\n",
        "ax.fill_between(y_pred_val.index, y_pred_val.iloc[:, 0], y_pred_val.iloc[:, 1], color='k', alpha=.2)\n",
        "ax.set_xlabel('Date')\n",
        "ax.set_ylabel('Sales')\n",
        "plt.legend()\n",
        "plt.show()"
      ],
      "metadata": {
        "colab": {
          "base_uri": "https://localhost:8080/",
          "height": 448
        },
        "id": "zzA_5-HkOGyR",
        "outputId": "9e2b0aaf-c12d-40b9-9e7c-aed02bd0b099"
      },
      "execution_count": 498,
      "outputs": [
        {
          "output_type": "display_data",
          "data": {
            "text/plain": [
              "<Figure size 1008x504 with 1 Axes>"
            ],
            "image/png": "[encoded data removed]"
          },
          "metadata": {}
        }
      ]
    },
    {
      "cell_type": "markdown",
      "source": [
        "Here, we evalute model based on our evaluation metric \"Root Mean Square Error\"."
      ],
      "metadata": {
        "id": "pH0w1JdHT3VO"
      }
    },
    {
      "cell_type": "code",
      "source": [
        "y_forecasted = y_pred.predicted_mean\n",
        "y_truth = dataset_final['Sales']\n",
        "\n",
        "mse = mean_squared_error(y_forecasted, y_truth)\n",
        "rmse = sqrt(mse)\n",
        "print('The Root Mean Squared Error of the forecasts is {}'.format(round(rmse, 2))) "
      ],
      "metadata": {
        "colab": {
          "base_uri": "https://localhost:8080/"
        },
        "id": "p8sVOKWKO8DW",
        "outputId": "04f6df45-5fd4-40e4-8996-ece880d542dc"
      },
      "execution_count": 499,
      "outputs": [
        {
          "output_type": "stream",
          "name": "stdout",
          "text": [
            "The Root Mean Squared Error of the forecasts is 119.54\n"
          ]
        }
      ]
    },
    {
      "cell_type": "markdown",
      "source": [
        "### 2.2.3 : Sales Forecating"
      ],
      "metadata": {
        "id": "wmsyZafsUBze"
      }
    },
    {
      "cell_type": "markdown",
      "source": [
        "We predict sales for next one month (January 2015) using our SARIMA model."
      ],
      "metadata": {
        "id": "Rb_ENFlyUIKR"
      }
    },
    {
      "cell_type": "code",
      "source": [
        "forecast = results.forecast(steps=31)\n",
        "print(forecast.astype('int'))"
      ],
      "metadata": {
        "colab": {
          "base_uri": "https://localhost:8080/"
        },
        "id": "2Dcr-O6UPCSg",
        "outputId": "35c38174-489e-490e-eeab-81fbff142122"
      },
      "execution_count": 500,
      "outputs": [
        {
          "output_type": "stream",
          "name": "stdout",
          "text": [
            "2015-01-01    249\n",
            "2015-01-02    257\n",
            "2015-01-03    258\n",
            "2015-01-04    244\n",
            "2015-01-05    251\n",
            "2015-01-06    231\n",
            "2015-01-07    248\n",
            "2015-01-08    254\n",
            "2015-01-09    239\n",
            "2015-01-10    235\n",
            "2015-01-11    245\n",
            "2015-01-12    249\n",
            "2015-01-13    248\n",
            "2015-01-14    258\n",
            "2015-01-15    259\n",
            "2015-01-16    244\n",
            "2015-01-17    251\n",
            "2015-01-18    231\n",
            "2015-01-19    249\n",
            "2015-01-20    254\n",
            "2015-01-21    240\n",
            "2015-01-22    235\n",
            "2015-01-23    245\n",
            "2015-01-24    250\n",
            "2015-01-25    248\n",
            "2015-01-26    258\n",
            "2015-01-27    259\n",
            "2015-01-28    245\n",
            "2015-01-29    251\n",
            "2015-01-30    231\n",
            "2015-01-31    249\n",
            "Freq: D, dtype: int64\n"
          ]
        }
      ]
    },
    {
      "cell_type": "markdown",
      "metadata": {
        "id": "j6wub0lZuPM7"
      },
      "source": [
        "## 2.3 : Frequently Bought Together Products"
      ]
    },
    {
      "cell_type": "markdown",
      "source": [
        "To find frequently bought together product we use Apriori and FPGrowth methods."
      ],
      "metadata": {
        "id": "F-gT_GlvUcgx"
      }
    },
    {
      "cell_type": "markdown",
      "source": [
        "### 2.3.1 : Preprocessing for Modeling"
      ],
      "metadata": {
        "id": "aip8MJtjUoSL"
      }
    },
    {
      "cell_type": "markdown",
      "source": [
        "1. First we select \"Order ID\" and \"Product Name\" features from the dataset."
      ],
      "metadata": {
        "id": "1oXQmSncUs_0"
      }
    },
    {
      "cell_type": "code",
      "execution_count": 511,
      "metadata": {
        "id": "IoFuSv0Quu17"
      },
      "outputs": [],
      "source": [
        "dataset_fbt = dataset[['Order ID', 'Product Name']]"
      ]
    },
    {
      "cell_type": "markdown",
      "source": [
        "### 2.3.2 : FPGrowth Algorithm"
      ],
      "metadata": {
        "id": "-8OXdB5EWzkr"
      }
    },
    {
      "cell_type": "markdown",
      "source": [
        "1. First of all, we convert dataset into the format on which we can apply FPGrowth algorithm."
      ],
      "metadata": {
        "id": "yEkKX5-NW4kf"
      }
    },
    {
      "cell_type": "code",
      "execution_count": 512,
      "metadata": {
        "colab": {
          "base_uri": "https://localhost:8080/",
          "height": 508
        },
        "id": "bf-_p5S0yYnO",
        "outputId": "5738453f-1199-4d4a-9ca6-47376a68a9f5"
      },
      "outputs": [
        {
          "output_type": "display_data",
          "data": {
            "text/plain": [
              "   \"While you Were Out\" Message Book, One Form per Page  \\\n",
              "0                                                  0      \n",
              "1                                                  0      \n",
              "2                                                  0      \n",
              "3                                                  0      \n",
              "4                                                  0      \n",
              "\n",
              "   #10 Gummed Flap White Envelopes, 100/Box  #10 Self-Seal White Envelopes  \\\n",
              "0                                         0                              0   \n",
              "1                                         0                              0   \n",
              "2                                         0                              0   \n",
              "3                                         0                              0   \n",
              "4                                         0                              0   \n",
              "\n",
              "   #10 White Business Envelopes,4 1/8 x 9 1/2  \\\n",
              "0                                           0   \n",
              "1                                           0   \n",
              "2                                           0   \n",
              "3                                           0   \n",
              "4                                           0   \n",
              "\n",
              "   #10- 4 1/8\" x 9 1/2\" Recycled Envelopes  \\\n",
              "0                                        0   \n",
              "1                                        0   \n",
              "2                                        0   \n",
              "3                                        0   \n",
              "4                                        0   \n",
              "\n",
              "   #10- 4 1/8\" x 9 1/2\" Security-Tint Envelopes  \\\n",
              "0                                             0   \n",
              "1                                             0   \n",
              "2                                             0   \n",
              "3                                             0   \n",
              "4                                             0   \n",
              "\n",
              "   #10-4 1/8\" x 9 1/2\" Premium Diagonal Seam Envelopes  \\\n",
              "0                                                  0     \n",
              "1                                                  0     \n",
              "2                                                  0     \n",
              "3                                                  0     \n",
              "4                                                  0     \n",
              "\n",
              "   #6 3/4 Gummed Flap White Envelopes  \\\n",
              "0                                   0   \n",
              "1                                   0   \n",
              "2                                   0   \n",
              "3                                   0   \n",
              "4                                   0   \n",
              "\n",
              "   1.7 Cubic Foot Compact \"Cube\" Office Refrigerators  \\\n",
              "0                                                  0    \n",
              "1                                                  0    \n",
              "2                                                  0    \n",
              "3                                                  0    \n",
              "4                                                  0    \n",
              "\n",
              "   1/4 Fold Party Design Invitations & White Envelopes, 24 8-1/2\" X 11\" Cards, 25 Env./Pack  \\\n",
              "0                                                  0                                          \n",
              "1                                                  0                                          \n",
              "2                                                  0                                          \n",
              "3                                                  0                                          \n",
              "4                                                  0                                          \n",
              "\n",
              "   ...  Zebra ZM400 Thermal Label Printer  \\\n",
              "0  ...                                  0   \n",
              "1  ...                                  0   \n",
              "2  ...                                  0   \n",
              "3  ...                                  0   \n",
              "4  ...                                  0   \n",
              "\n",
              "   Zebra Zazzle Fluorescent Highlighters  Zipper Ring Binder Pockets  \\\n",
              "0                                      0                           0   \n",
              "1                                      0                           0   \n",
              "2                                      0                           0   \n",
              "3                                      0                           0   \n",
              "4                                      0                           0   \n",
              "\n",
              "   i.Sound Portable Power - 8000 mAh  \\\n",
              "0                                  0   \n",
              "1                                  0   \n",
              "2                                  0   \n",
              "3                                  0   \n",
              "4                                  0   \n",
              "\n",
              "   iHome FM Clock Radio with Lightning Dock  \\\n",
              "0                                         0   \n",
              "1                                         0   \n",
              "2                                         0   \n",
              "3                                         0   \n",
              "4                                         0   \n",
              "\n",
              "   iKross Bluetooth Portable Keyboard + Cell Phone Stand Holder + Brush for Apple iPhone 5S 5C 5, 4S 4  \\\n",
              "0                                                  0                                                     \n",
              "1                                                  0                                                     \n",
              "2                                                  0                                                     \n",
              "3                                                  0                                                     \n",
              "4                                                  0                                                     \n",
              "\n",
              "   iOttie HLCRIO102 Car Mount  iOttie XL Car Mount  \\\n",
              "0                           0                    0   \n",
              "1                           0                    0   \n",
              "2                           0                    0   \n",
              "3                           0                    0   \n",
              "4                           0                    0   \n",
              "\n",
              "   invisibleSHIELD by ZAGG Smudge-Free Screen Protector  \\\n",
              "0                                                  0      \n",
              "1                                                  0      \n",
              "2                                                  0      \n",
              "3                                                  0      \n",
              "4                                                  0      \n",
              "\n",
              "   netTALK DUO VoIP Telephone Service  \n",
              "0                                   0  \n",
              "1                                   0  \n",
              "2                                   0  \n",
              "3                                   0  \n",
              "4                                   0  \n",
              "\n",
              "[5 rows x 3788 columns]"
            ],
            "text/html": [
              "\n",
              "  <div id=\"df-67beddaf-c306-4560-b441-55df75159fe7\">\n",
              "    <div class=\"colab-df-container\">\n",
              "      <div>\n",
              "<style scoped>\n",
              "    .dataframe tbody tr th:only-of-type {\n",
              "        vertical-align: middle;\n",
              "    }\n",
              "\n",
              "    .dataframe tbody tr th {\n",
              "        vertical-align: top;\n",
              "    }\n",
              "\n",
              "    .dataframe thead th {\n",
              "        text-align: right;\n",
              "    }\n",
              "</style>\n",
              "<table border=\"1\" class=\"dataframe\">\n",
              "  <thead>\n",
              "    <tr style=\"text-align: right;\">\n",
              "      <th></th>\n",
              "      <th>\"While you Were Out\" Message Book, One Form per Page</th>\n",
              "      <th>#10 Gummed Flap White Envelopes, 100/Box</th>\n",
              "      <th>#10 Self-Seal White Envelopes</th>\n",
              "      <th>#10 White Business Envelopes,4 1/8 x 9 1/2</th>\n",
              "      <th>#10- 4 1/8\" x 9 1/2\" Recycled Envelopes</th>\n",
              "      <th>#10- 4 1/8\" x 9 1/2\" Security-Tint Envelopes</th>\n",
              "      <th>#10-4 1/8\" x 9 1/2\" Premium Diagonal Seam Envelopes</th>\n",
              "      <th>#6 3/4 Gummed Flap White Envelopes</th>\n",
              "      <th>1.7 Cubic Foot Compact \"Cube\" Office Refrigerators</th>\n",
              "      <th>1/4 Fold Party Design Invitations &amp; White Envelopes, 24 8-1/2\" X 11\" Cards, 25 Env./Pack</th>\n",
              "      <th>...</th>\n",
              "      <th>Zebra ZM400 Thermal Label Printer</th>\n",
              "      <th>Zebra Zazzle Fluorescent Highlighters</th>\n",
              "      <th>Zipper Ring Binder Pockets</th>\n",
              "      <th>i.Sound Portable Power - 8000 mAh</th>\n",
              "      <th>iHome FM Clock Radio with Lightning Dock</th>\n",
              "      <th>iKross Bluetooth Portable Keyboard + Cell Phone Stand Holder + Brush for Apple iPhone 5S 5C 5, 4S 4</th>\n",
              "      <th>iOttie HLCRIO102 Car Mount</th>\n",
              "      <th>iOttie XL Car Mount</th>\n",
              "      <th>invisibleSHIELD by ZAGG Smudge-Free Screen Protector</th>\n",
              "      <th>netTALK DUO VoIP Telephone Service</th>\n",
              "    </tr>\n",
              "  </thead>\n",
              "  <tbody>\n",
              "    <tr>\n",
              "      <th>0</th>\n",
              "      <td>0</td>\n",
              "      <td>0</td>\n",
              "      <td>0</td>\n",
              "      <td>0</td>\n",
              "      <td>0</td>\n",
              "      <td>0</td>\n",
              "      <td>0</td>\n",
              "      <td>0</td>\n",
              "      <td>0</td>\n",
              "      <td>0</td>\n",
              "      <td>...</td>\n",
              "      <td>0</td>\n",
              "      <td>0</td>\n",
              "      <td>0</td>\n",
              "      <td>0</td>\n",
              "      <td>0</td>\n",
              "      <td>0</td>\n",
              "      <td>0</td>\n",
              "      <td>0</td>\n",
              "      <td>0</td>\n",
              "      <td>0</td>\n",
              "    </tr>\n",
              "    <tr>\n",
              "      <th>1</th>\n",
              "      <td>0</td>\n",
              "      <td>0</td>\n",
              "      <td>0</td>\n",
              "      <td>0</td>\n",
              "      <td>0</td>\n",
              "      <td>0</td>\n",
              "      <td>0</td>\n",
              "      <td>0</td>\n",
              "      <td>0</td>\n",
              "      <td>0</td>\n",
              "      <td>...</td>\n",
              "      <td>0</td>\n",
              "      <td>0</td>\n",
              "      <td>0</td>\n",
              "      <td>0</td>\n",
              "      <td>0</td>\n",
              "      <td>0</td>\n",
              "      <td>0</td>\n",
              "      <td>0</td>\n",
              "      <td>0</td>\n",
              "      <td>0</td>\n",
              "    </tr>\n",
              "    <tr>\n",
              "      <th>2</th>\n",
              "      <td>0</td>\n",
              "      <td>0</td>\n",
              "      <td>0</td>\n",
              "      <td>0</td>\n",
              "      <td>0</td>\n",
              "      <td>0</td>\n",
              "      <td>0</td>\n",
              "      <td>0</td>\n",
              "      <td>0</td>\n",
              "      <td>0</td>\n",
              "      <td>...</td>\n",
              "      <td>0</td>\n",
              "      <td>0</td>\n",
              "      <td>0</td>\n",
              "      <td>0</td>\n",
              "      <td>0</td>\n",
              "      <td>0</td>\n",
              "      <td>0</td>\n",
              "      <td>0</td>\n",
              "      <td>0</td>\n",
              "      <td>0</td>\n",
              "    </tr>\n",
              "    <tr>\n",
              "      <th>3</th>\n",
              "      <td>0</td>\n",
              "      <td>0</td>\n",
              "      <td>0</td>\n",
              "      <td>0</td>\n",
              "      <td>0</td>\n",
              "      <td>0</td>\n",
              "      <td>0</td>\n",
              "      <td>0</td>\n",
              "      <td>0</td>\n",
              "      <td>0</td>\n",
              "      <td>...</td>\n",
              "      <td>0</td>\n",
              "      <td>0</td>\n",
              "      <td>0</td>\n",
              "      <td>0</td>\n",
              "      <td>0</td>\n",
              "      <td>0</td>\n",
              "      <td>0</td>\n",
              "      <td>0</td>\n",
              "      <td>0</td>\n",
              "      <td>0</td>\n",
              "    </tr>\n",
              "    <tr>\n",
              "      <th>4</th>\n",
              "      <td>0</td>\n",
              "      <td>0</td>\n",
              "      <td>0</td>\n",
              "      <td>0</td>\n",
              "      <td>0</td>\n",
              "      <td>0</td>\n",
              "      <td>0</td>\n",
              "      <td>0</td>\n",
              "      <td>0</td>\n",
              "      <td>0</td>\n",
              "      <td>...</td>\n",
              "      <td>0</td>\n",
              "      <td>0</td>\n",
              "      <td>0</td>\n",
              "      <td>0</td>\n",
              "      <td>0</td>\n",
              "      <td>0</td>\n",
              "      <td>0</td>\n",
              "      <td>0</td>\n",
              "      <td>0</td>\n",
              "      <td>0</td>\n",
              "    </tr>\n",
              "  </tbody>\n",
              "</table>\n",
              "<p>5 rows × 3788 columns</p>\n",
              "</div>\n",
              "      <button class=\"colab-df-convert\" onclick=\"convertToInteractive('df-67beddaf-c306-4560-b441-55df75159fe7')\"\n",
              "              title=\"Convert this dataframe to an interactive table.\"\n",
              "              style=\"display:none;\">\n",
              "        \n",
              "  <svg xmlns=\"http://www.w3.org/2000/svg\" height=\"24px\"viewBox=\"0 0 24 24\"\n",
              "       width=\"24px\">\n",
              "    <path d=\"M0 0h24v24H0V0z\" fill=\"none\"/>\n",
              "    <path d=\"M18.56 5.44l.94 2.06.94-2.06 2.06-.94-2.06-.94-.94-2.06-.94 2.06-2.06.94zm-11 1L8.5 8.5l.94-2.06 2.06-.94-2.06-.94L8.5 2.5l-.94 2.06-2.06.94zm10 10l.94 2.06.94-2.06 2.06-.94-2.06-.94-.94-2.06-.94 2.06-2.06.94z\"/><path d=\"M17.41 7.96l-1.37-1.37c-.4-.4-.92-.59-1.43-.59-.52 0-1.04.2-1.43.59L10.3 9.45l-7.72 7.72c-.78.78-.78 2.05 0 2.83L4 21.41c.39.39.9.59 1.41.59.51 0 1.02-.2 1.41-.59l7.78-7.78 2.81-2.81c.8-.78.8-2.07 0-2.86zM5.41 20L4 18.59l7.72-7.72 1.47 1.35L5.41 20z\"/>\n",
              "  </svg>\n",
              "      </button>\n",
              "      \n",
              "  <style>\n",
              "    .colab-df-container {\n",
              "      display:flex;\n",
              "      flex-wrap:wrap;\n",
              "      gap: 12px;\n",
              "    }\n",
              "\n",
              "    .colab-df-convert {\n",
              "      background-color: #E8F0FE;\n",
              "      border: none;\n",
              "      border-radius: 50%;\n",
              "      cursor: pointer;\n",
              "      display: none;\n",
              "      fill: #1967D2;\n",
              "      height: 32px;\n",
              "      padding: 0 0 0 0;\n",
              "      width: 32px;\n",
              "    }\n",
              "\n",
              "    .colab-df-convert:hover {\n",
              "      background-color: #E2EBFA;\n",
              "      box-shadow: 0px 1px 2px rgba(60, 64, 67, 0.3), 0px 1px 3px 1px rgba(60, 64, 67, 0.15);\n",
              "      fill: #174EA6;\n",
              "    }\n",
              "\n",
              "    [theme=dark] .colab-df-convert {\n",
              "      background-color: #3B4455;\n",
              "      fill: #D2E3FC;\n",
              "    }\n",
              "\n",
              "    [theme=dark] .colab-df-convert:hover {\n",
              "      background-color: #434B5C;\n",
              "      box-shadow: 0px 1px 3px 1px rgba(0, 0, 0, 0.15);\n",
              "      filter: drop-shadow(0px 1px 2px rgba(0, 0, 0, 0.3));\n",
              "      fill: #FFFFFF;\n",
              "    }\n",
              "  </style>\n",
              "\n",
              "      <script>\n",
              "        const buttonEl =\n",
              "          document.querySelector('#df-67beddaf-c306-4560-b441-55df75159fe7 button.colab-df-convert');\n",
              "        buttonEl.style.display =\n",
              "          google.colab.kernel.accessAllowed ? 'block' : 'none';\n",
              "\n",
              "        async function convertToInteractive(key) {\n",
              "          const element = document.querySelector('#df-67beddaf-c306-4560-b441-55df75159fe7');\n",
              "          const dataTable =\n",
              "            await google.colab.kernel.invokeFunction('convertToInteractive',\n",
              "                                                     [key], {});\n",
              "          if (!dataTable) return;\n",
              "\n",
              "          const docLinkHtml = 'Like what you see? Visit the ' +\n",
              "            '<a target=\"_blank\" href=https://colab.research.google.com/notebooks/data_table.ipynb>data table notebook</a>'\n",
              "            + ' to learn more about interactive tables.';\n",
              "          element.innerHTML = '';\n",
              "          dataTable['output_type'] = 'display_data';\n",
              "          await google.colab.output.renderOutput(dataTable, element);\n",
              "          const docLink = document.createElement('div');\n",
              "          docLink.innerHTML = docLinkHtml;\n",
              "          element.appendChild(docLink);\n",
              "        }\n",
              "      </script>\n",
              "    </div>\n",
              "  </div>\n",
              "  "
            ]
          },
          "metadata": {}
        }
      ],
      "source": [
        "dataset_fbt['Product Name'] = dataset_fbt['Product Name'].transform(lambda x: [x])\n",
        "dataset_fbt = dataset_fbt.groupby(['Order ID']).sum()['Product Name'].reset_index(drop=True)\n",
        "\n",
        "encoder = TransactionEncoder()\n",
        "transactions = pd.DataFrame.sparse.from_spmatrix(encoder.fit(dataset_fbt).transform(dataset_fbt, sparse=True), columns=encoder.columns_)\n",
        "display(transactions.head())"
      ]
    },
    {
      "cell_type": "markdown",
      "source": [
        "2. We apply FPGrowth algorithm on our dataset.\n",
        "    * We want product to bought together atleast three times.\n",
        "    * Lift > 1.5\n",
        "    * Maximum two items"
      ],
      "metadata": {
        "id": "WDyqYyv9XOP2"
      }
    },
    {
      "cell_type": "code",
      "execution_count": 513,
      "metadata": {
        "id": "lXZ8wpr_y7Dh"
      },
      "outputs": [],
      "source": [
        "frequent_itemsets_fpg = fpgrowth(transactions, min_support= 3/len(dataset_fbt), use_colnames=True, max_len = 2)"
      ]
    },
    {
      "cell_type": "markdown",
      "source": [
        "3. Let's now print the top 10 set of products that were purchased together. Lift > 1.5 ensures that if product 1 has been purchased, there is a strong likelihood that product 2 will also be purchased."
      ],
      "metadata": {
        "id": "XN9_XjV0XZ1_"
      }
    },
    {
      "cell_type": "code",
      "source": [
        "rules_fpg = association_rules(frequent_itemsets_fpg, metric='lift', min_threshold = 1.5)\n",
        "display(rules_fpg.head(10))\n",
        "print(\"Rules identified: \", len(rules_fpg))"
      ],
      "metadata": {
        "colab": {
          "base_uri": "https://localhost:8080/",
          "height": 719
        },
        "id": "GYxaJcb8VItw",
        "outputId": "ec8503e3-0881-417d-b0b5-946b44f459b7"
      },
      "execution_count": 514,
      "outputs": [
        {
          "output_type": "display_data",
          "data": {
            "text/plain": [
              "                               antecedents  \\\n",
              "0                   (Acco Binder, Durable)   \n",
              "1               (Stockwell Staples, Metal)   \n",
              "2               (Stockwell Staples, Metal)   \n",
              "3  (Stanley Pencil Sharpener, Water Color)   \n",
              "4          (Eldon File Cart, Single Width)   \n",
              "5         (Stanley Sketch Pad, Easy-Erase)   \n",
              "6         (Rogers File Cart, Single Width)   \n",
              "7  (Stanley Pencil Sharpener, Water Color)   \n",
              "8           (Avery 3-Hole Punch, Recycled)   \n",
              "9   (Sanford Pencil Sharpener, Easy-Erase)   \n",
              "\n",
              "                               consequents  antecedent support  \\\n",
              "0               (Stockwell Staples, Metal)            0.001638   \n",
              "1                   (Acco Binder, Durable)            0.001598   \n",
              "2  (Stanley Pencil Sharpener, Water Color)            0.001598   \n",
              "3               (Stockwell Staples, Metal)            0.002996   \n",
              "4         (Stanley Sketch Pad, Easy-Erase)            0.003595   \n",
              "5          (Eldon File Cart, Single Width)            0.001478   \n",
              "6  (Stanley Pencil Sharpener, Water Color)            0.003355   \n",
              "7         (Rogers File Cart, Single Width)            0.002996   \n",
              "8   (Sanford Pencil Sharpener, Easy-Erase)            0.001957   \n",
              "9           (Avery 3-Hole Punch, Recycled)            0.001957   \n",
              "\n",
              "   consequent support  support  confidence       lift  leverage  conviction  \n",
              "0            0.001598  0.00012    0.073171  45.795732  0.000117    1.077223  \n",
              "1            0.001638  0.00012    0.075000  45.795732  0.000117    1.079311  \n",
              "2            0.002996  0.00012    0.075000  25.035000  0.000115    1.077842  \n",
              "3            0.001598  0.00012    0.040000  25.035000  0.000115    1.040002  \n",
              "4            0.001478  0.00012    0.033333  22.554054  0.000115    1.032954  \n",
              "5            0.003595  0.00012    0.081081  22.554054  0.000115    1.084323  \n",
              "6            0.002996  0.00012    0.035714  11.921429  0.000110    1.033930  \n",
              "7            0.003355  0.00012    0.040000  11.921429  0.000110    1.038172  \n",
              "8            0.001957  0.00012    0.061224  31.280716  0.000116    1.063132  \n",
              "9            0.001957  0.00012    0.061224  31.280716  0.000116    1.063132  "
            ],
            "text/html": [
              "\n",
              "  <div id=\"df-5fd0125f-8202-44f2-9733-189f633019dc\">\n",
              "    <div class=\"colab-df-container\">\n",
              "      <div>\n",
              "<style scoped>\n",
              "    .dataframe tbody tr th:only-of-type {\n",
              "        vertical-align: middle;\n",
              "    }\n",
              "\n",
              "    .dataframe tbody tr th {\n",
              "        vertical-align: top;\n",
              "    }\n",
              "\n",
              "    .dataframe thead th {\n",
              "        text-align: right;\n",
              "    }\n",
              "</style>\n",
              "<table border=\"1\" class=\"dataframe\">\n",
              "  <thead>\n",
              "    <tr style=\"text-align: right;\">\n",
              "      <th></th>\n",
              "      <th>antecedents</th>\n",
              "      <th>consequents</th>\n",
              "      <th>antecedent support</th>\n",
              "      <th>consequent support</th>\n",
              "      <th>support</th>\n",
              "      <th>confidence</th>\n",
              "      <th>lift</th>\n",
              "      <th>leverage</th>\n",
              "      <th>conviction</th>\n",
              "    </tr>\n",
              "  </thead>\n",
              "  <tbody>\n",
              "    <tr>\n",
              "      <th>0</th>\n",
              "      <td>(Acco Binder, Durable)</td>\n",
              "      <td>(Stockwell Staples, Metal)</td>\n",
              "      <td>0.001638</td>\n",
              "      <td>0.001598</td>\n",
              "      <td>0.00012</td>\n",
              "      <td>0.073171</td>\n",
              "      <td>45.795732</td>\n",
              "      <td>0.000117</td>\n",
              "      <td>1.077223</td>\n",
              "    </tr>\n",
              "    <tr>\n",
              "      <th>1</th>\n",
              "      <td>(Stockwell Staples, Metal)</td>\n",
              "      <td>(Acco Binder, Durable)</td>\n",
              "      <td>0.001598</td>\n",
              "      <td>0.001638</td>\n",
              "      <td>0.00012</td>\n",
              "      <td>0.075000</td>\n",
              "      <td>45.795732</td>\n",
              "      <td>0.000117</td>\n",
              "      <td>1.079311</td>\n",
              "    </tr>\n",
              "    <tr>\n",
              "      <th>2</th>\n",
              "      <td>(Stockwell Staples, Metal)</td>\n",
              "      <td>(Stanley Pencil Sharpener, Water Color)</td>\n",
              "      <td>0.001598</td>\n",
              "      <td>0.002996</td>\n",
              "      <td>0.00012</td>\n",
              "      <td>0.075000</td>\n",
              "      <td>25.035000</td>\n",
              "      <td>0.000115</td>\n",
              "      <td>1.077842</td>\n",
              "    </tr>\n",
              "    <tr>\n",
              "      <th>3</th>\n",
              "      <td>(Stanley Pencil Sharpener, Water Color)</td>\n",
              "      <td>(Stockwell Staples, Metal)</td>\n",
              "      <td>0.002996</td>\n",
              "      <td>0.001598</td>\n",
              "      <td>0.00012</td>\n",
              "      <td>0.040000</td>\n",
              "      <td>25.035000</td>\n",
              "      <td>0.000115</td>\n",
              "      <td>1.040002</td>\n",
              "    </tr>\n",
              "    <tr>\n",
              "      <th>4</th>\n",
              "      <td>(Eldon File Cart, Single Width)</td>\n",
              "      <td>(Stanley Sketch Pad, Easy-Erase)</td>\n",
              "      <td>0.003595</td>\n",
              "      <td>0.001478</td>\n",
              "      <td>0.00012</td>\n",
              "      <td>0.033333</td>\n",
              "      <td>22.554054</td>\n",
              "      <td>0.000115</td>\n",
              "      <td>1.032954</td>\n",
              "    </tr>\n",
              "    <tr>\n",
              "      <th>5</th>\n",
              "      <td>(Stanley Sketch Pad, Easy-Erase)</td>\n",
              "      <td>(Eldon File Cart, Single Width)</td>\n",
              "      <td>0.001478</td>\n",
              "      <td>0.003595</td>\n",
              "      <td>0.00012</td>\n",
              "      <td>0.081081</td>\n",
              "      <td>22.554054</td>\n",
              "      <td>0.000115</td>\n",
              "      <td>1.084323</td>\n",
              "    </tr>\n",
              "    <tr>\n",
              "      <th>6</th>\n",
              "      <td>(Rogers File Cart, Single Width)</td>\n",
              "      <td>(Stanley Pencil Sharpener, Water Color)</td>\n",
              "      <td>0.003355</td>\n",
              "      <td>0.002996</td>\n",
              "      <td>0.00012</td>\n",
              "      <td>0.035714</td>\n",
              "      <td>11.921429</td>\n",
              "      <td>0.000110</td>\n",
              "      <td>1.033930</td>\n",
              "    </tr>\n",
              "    <tr>\n",
              "      <th>7</th>\n",
              "      <td>(Stanley Pencil Sharpener, Water Color)</td>\n",
              "      <td>(Rogers File Cart, Single Width)</td>\n",
              "      <td>0.002996</td>\n",
              "      <td>0.003355</td>\n",
              "      <td>0.00012</td>\n",
              "      <td>0.040000</td>\n",
              "      <td>11.921429</td>\n",
              "      <td>0.000110</td>\n",
              "      <td>1.038172</td>\n",
              "    </tr>\n",
              "    <tr>\n",
              "      <th>8</th>\n",
              "      <td>(Avery 3-Hole Punch, Recycled)</td>\n",
              "      <td>(Sanford Pencil Sharpener, Easy-Erase)</td>\n",
              "      <td>0.001957</td>\n",
              "      <td>0.001957</td>\n",
              "      <td>0.00012</td>\n",
              "      <td>0.061224</td>\n",
              "      <td>31.280716</td>\n",
              "      <td>0.000116</td>\n",
              "      <td>1.063132</td>\n",
              "    </tr>\n",
              "    <tr>\n",
              "      <th>9</th>\n",
              "      <td>(Sanford Pencil Sharpener, Easy-Erase)</td>\n",
              "      <td>(Avery 3-Hole Punch, Recycled)</td>\n",
              "      <td>0.001957</td>\n",
              "      <td>0.001957</td>\n",
              "      <td>0.00012</td>\n",
              "      <td>0.061224</td>\n",
              "      <td>31.280716</td>\n",
              "      <td>0.000116</td>\n",
              "      <td>1.063132</td>\n",
              "    </tr>\n",
              "  </tbody>\n",
              "</table>\n",
              "</div>\n",
              "      <button class=\"colab-df-convert\" onclick=\"convertToInteractive('df-5fd0125f-8202-44f2-9733-189f633019dc')\"\n",
              "              title=\"Convert this dataframe to an interactive table.\"\n",
              "              style=\"display:none;\">\n",
              "        \n",
              "  <svg xmlns=\"http://www.w3.org/2000/svg\" height=\"24px\"viewBox=\"0 0 24 24\"\n",
              "       width=\"24px\">\n",
              "    <path d=\"M0 0h24v24H0V0z\" fill=\"none\"/>\n",
              "    <path d=\"M18.56 5.44l.94 2.06.94-2.06 2.06-.94-2.06-.94-.94-2.06-.94 2.06-2.06.94zm-11 1L8.5 8.5l.94-2.06 2.06-.94-2.06-.94L8.5 2.5l-.94 2.06-2.06.94zm10 10l.94 2.06.94-2.06 2.06-.94-2.06-.94-.94-2.06-.94 2.06-2.06.94z\"/><path d=\"M17.41 7.96l-1.37-1.37c-.4-.4-.92-.59-1.43-.59-.52 0-1.04.2-1.43.59L10.3 9.45l-7.72 7.72c-.78.78-.78 2.05 0 2.83L4 21.41c.39.39.9.59 1.41.59.51 0 1.02-.2 1.41-.59l7.78-7.78 2.81-2.81c.8-.78.8-2.07 0-2.86zM5.41 20L4 18.59l7.72-7.72 1.47 1.35L5.41 20z\"/>\n",
              "  </svg>\n",
              "      </button>\n",
              "      \n",
              "  <style>\n",
              "    .colab-df-container {\n",
              "      display:flex;\n",
              "      flex-wrap:wrap;\n",
              "      gap: 12px;\n",
              "    }\n",
              "\n",
              "    .colab-df-convert {\n",
              "      background-color: #E8F0FE;\n",
              "      border: none;\n",
              "      border-radius: 50%;\n",
              "      cursor: pointer;\n",
              "      display: none;\n",
              "      fill: #1967D2;\n",
              "      height: 32px;\n",
              "      padding: 0 0 0 0;\n",
              "      width: 32px;\n",
              "    }\n",
              "\n",
              "    .colab-df-convert:hover {\n",
              "      background-color: #E2EBFA;\n",
              "      box-shadow: 0px 1px 2px rgba(60, 64, 67, 0.3), 0px 1px 3px 1px rgba(60, 64, 67, 0.15);\n",
              "      fill: #174EA6;\n",
              "    }\n",
              "\n",
              "    [theme=dark] .colab-df-convert {\n",
              "      background-color: #3B4455;\n",
              "      fill: #D2E3FC;\n",
              "    }\n",
              "\n",
              "    [theme=dark] .colab-df-convert:hover {\n",
              "      background-color: #434B5C;\n",
              "      box-shadow: 0px 1px 3px 1px rgba(0, 0, 0, 0.15);\n",
              "      filter: drop-shadow(0px 1px 2px rgba(0, 0, 0, 0.3));\n",
              "      fill: #FFFFFF;\n",
              "    }\n",
              "  </style>\n",
              "\n",
              "      <script>\n",
              "        const buttonEl =\n",
              "          document.querySelector('#df-5fd0125f-8202-44f2-9733-189f633019dc button.colab-df-convert');\n",
              "        buttonEl.style.display =\n",
              "          google.colab.kernel.accessAllowed ? 'block' : 'none';\n",
              "\n",
              "        async function convertToInteractive(key) {\n",
              "          const element = document.querySelector('#df-5fd0125f-8202-44f2-9733-189f633019dc');\n",
              "          const dataTable =\n",
              "            await google.colab.kernel.invokeFunction('convertToInteractive',\n",
              "                                                     [key], {});\n",
              "          if (!dataTable) return;\n",
              "\n",
              "          const docLinkHtml = 'Like what you see? Visit the ' +\n",
              "            '<a target=\"_blank\" href=https://colab.research.google.com/notebooks/data_table.ipynb>data table notebook</a>'\n",
              "            + ' to learn more about interactive tables.';\n",
              "          element.innerHTML = '';\n",
              "          dataTable['output_type'] = 'display_data';\n",
              "          await google.colab.output.renderOutput(dataTable, element);\n",
              "          const docLink = document.createElement('div');\n",
              "          docLink.innerHTML = docLinkHtml;\n",
              "          element.appendChild(docLink);\n",
              "        }\n",
              "      </script>\n",
              "    </div>\n",
              "  </div>\n",
              "  "
            ]
          },
          "metadata": {}
        },
        {
          "output_type": "stream",
          "name": "stdout",
          "text": [
            "Rules identified:  70\n"
          ]
        }
      ]
    },
    {
      "cell_type": "markdown",
      "source": [
        "### 2.3.3 : Apriori Algorithm"
      ],
      "metadata": {
        "id": "kqzKpQGZVN48"
      }
    },
    {
      "cell_type": "markdown",
      "source": [
        "1. We apply Apriori algorithm on our dataset.\n",
        "    * We want product to bought together atleast three times.\n",
        "    * Lift > 1.5\n",
        "    * Maximum two items"
      ],
      "metadata": {
        "id": "fVUx0abpVibO"
      }
    },
    {
      "cell_type": "code",
      "source": [
        "rules = apriori(dataset_fbt, min_support=3/len(dataset_fbt), min_lift=1.5, maax_length = 2)"
      ],
      "metadata": {
        "id": "l87va0sQgdkv"
      },
      "execution_count": 515,
      "outputs": []
    },
    {
      "cell_type": "markdown",
      "source": [
        "2. Let's now print the top 5 set of products that were purchased together. Lift > 1.5 ensures that if product 1 has been purchased, there is a strong likelihood that product 2 will also be purchased."
      ],
      "metadata": {
        "id": "sUl20momWBNs"
      }
    },
    {
      "cell_type": "code",
      "source": [
        "df_results = pd.DataFrame(list(rules))\n",
        "rules_apr = pd.DataFrame(df_results['items'].tolist(), columns=['Product 1', 'Product 2',])\n",
        "rules_apr['support'] = df_results['support']"
      ],
      "metadata": {
        "id": "0VEZperyiiyP"
      },
      "execution_count": 516,
      "outputs": []
    },
    {
      "cell_type": "code",
      "source": [
        "rules_apr.head(5)"
      ],
      "metadata": {
        "colab": {
          "base_uri": "https://localhost:8080/",
          "height": 206
        },
        "id": "gVriJVubinK-",
        "outputId": "7996b823-5d89-46ca-9965-dbf738ed9b90"
      },
      "execution_count": 517,
      "outputs": [
        {
          "output_type": "execute_result",
          "data": {
            "text/plain": [
              "                                    Product 1                       Product 2  \\\n",
              "0  #10 White Business Envelopes,4 1/8 x 9 1/2                         Staples   \n",
              "1                          Acco Binder, Clear  Acco Binding Machine, Recycled   \n",
              "2                        Acco Binder, Durable        Stockwell Staples, Metal   \n",
              "3                           Tenex Trays, Blue           Acco Index Tab, Clear   \n",
              "4          Adjustable Depth Letter/Legal Cart                         Staples   \n",
              "\n",
              "   support  \n",
              "0  0.00012  \n",
              "1  0.00012  \n",
              "2  0.00012  \n",
              "3  0.00012  \n",
              "4  0.00012  "
            ],
            "text/html": [
              "\n",
              "  <div id=\"df-127f72c7-a068-48c7-8db5-46350f68f244\">\n",
              "    <div class=\"colab-df-container\">\n",
              "      <div>\n",
              "<style scoped>\n",
              "    .dataframe tbody tr th:only-of-type {\n",
              "        vertical-align: middle;\n",
              "    }\n",
              "\n",
              "    .dataframe tbody tr th {\n",
              "        vertical-align: top;\n",
              "    }\n",
              "\n",
              "    .dataframe thead th {\n",
              "        text-align: right;\n",
              "    }\n",
              "</style>\n",
              "<table border=\"1\" class=\"dataframe\">\n",
              "  <thead>\n",
              "    <tr style=\"text-align: right;\">\n",
              "      <th></th>\n",
              "      <th>Product 1</th>\n",
              "      <th>Product 2</th>\n",
              "      <th>support</th>\n",
              "    </tr>\n",
              "  </thead>\n",
              "  <tbody>\n",
              "    <tr>\n",
              "      <th>0</th>\n",
              "      <td>#10 White Business Envelopes,4 1/8 x 9 1/2</td>\n",
              "      <td>Staples</td>\n",
              "      <td>0.00012</td>\n",
              "    </tr>\n",
              "    <tr>\n",
              "      <th>1</th>\n",
              "      <td>Acco Binder, Clear</td>\n",
              "      <td>Acco Binding Machine, Recycled</td>\n",
              "      <td>0.00012</td>\n",
              "    </tr>\n",
              "    <tr>\n",
              "      <th>2</th>\n",
              "      <td>Acco Binder, Durable</td>\n",
              "      <td>Stockwell Staples, Metal</td>\n",
              "      <td>0.00012</td>\n",
              "    </tr>\n",
              "    <tr>\n",
              "      <th>3</th>\n",
              "      <td>Tenex Trays, Blue</td>\n",
              "      <td>Acco Index Tab, Clear</td>\n",
              "      <td>0.00012</td>\n",
              "    </tr>\n",
              "    <tr>\n",
              "      <th>4</th>\n",
              "      <td>Adjustable Depth Letter/Legal Cart</td>\n",
              "      <td>Staples</td>\n",
              "      <td>0.00012</td>\n",
              "    </tr>\n",
              "  </tbody>\n",
              "</table>\n",
              "</div>\n",
              "      <button class=\"colab-df-convert\" onclick=\"convertToInteractive('df-127f72c7-a068-48c7-8db5-46350f68f244')\"\n",
              "              title=\"Convert this dataframe to an interactive table.\"\n",
              "              style=\"display:none;\">\n",
              "        \n",
              "  <svg xmlns=\"http://www.w3.org/2000/svg\" height=\"24px\"viewBox=\"0 0 24 24\"\n",
              "       width=\"24px\">\n",
              "    <path d=\"M0 0h24v24H0V0z\" fill=\"none\"/>\n",
              "    <path d=\"M18.56 5.44l.94 2.06.94-2.06 2.06-.94-2.06-.94-.94-2.06-.94 2.06-2.06.94zm-11 1L8.5 8.5l.94-2.06 2.06-.94-2.06-.94L8.5 2.5l-.94 2.06-2.06.94zm10 10l.94 2.06.94-2.06 2.06-.94-2.06-.94-.94-2.06-.94 2.06-2.06.94z\"/><path d=\"M17.41 7.96l-1.37-1.37c-.4-.4-.92-.59-1.43-.59-.52 0-1.04.2-1.43.59L10.3 9.45l-7.72 7.72c-.78.78-.78 2.05 0 2.83L4 21.41c.39.39.9.59 1.41.59.51 0 1.02-.2 1.41-.59l7.78-7.78 2.81-2.81c.8-.78.8-2.07 0-2.86zM5.41 20L4 18.59l7.72-7.72 1.47 1.35L5.41 20z\"/>\n",
              "  </svg>\n",
              "      </button>\n",
              "      \n",
              "  <style>\n",
              "    .colab-df-container {\n",
              "      display:flex;\n",
              "      flex-wrap:wrap;\n",
              "      gap: 12px;\n",
              "    }\n",
              "\n",
              "    .colab-df-convert {\n",
              "      background-color: #E8F0FE;\n",
              "      border: none;\n",
              "      border-radius: 50%;\n",
              "      cursor: pointer;\n",
              "      display: none;\n",
              "      fill: #1967D2;\n",
              "      height: 32px;\n",
              "      padding: 0 0 0 0;\n",
              "      width: 32px;\n",
              "    }\n",
              "\n",
              "    .colab-df-convert:hover {\n",
              "      background-color: #E2EBFA;\n",
              "      box-shadow: 0px 1px 2px rgba(60, 64, 67, 0.3), 0px 1px 3px 1px rgba(60, 64, 67, 0.15);\n",
              "      fill: #174EA6;\n",
              "    }\n",
              "\n",
              "    [theme=dark] .colab-df-convert {\n",
              "      background-color: #3B4455;\n",
              "      fill: #D2E3FC;\n",
              "    }\n",
              "\n",
              "    [theme=dark] .colab-df-convert:hover {\n",
              "      background-color: #434B5C;\n",
              "      box-shadow: 0px 1px 3px 1px rgba(0, 0, 0, 0.15);\n",
              "      filter: drop-shadow(0px 1px 2px rgba(0, 0, 0, 0.3));\n",
              "      fill: #FFFFFF;\n",
              "    }\n",
              "  </style>\n",
              "\n",
              "      <script>\n",
              "        const buttonEl =\n",
              "          document.querySelector('#df-127f72c7-a068-48c7-8db5-46350f68f244 button.colab-df-convert');\n",
              "        buttonEl.style.display =\n",
              "          google.colab.kernel.accessAllowed ? 'block' : 'none';\n",
              "\n",
              "        async function convertToInteractive(key) {\n",
              "          const element = document.querySelector('#df-127f72c7-a068-48c7-8db5-46350f68f244');\n",
              "          const dataTable =\n",
              "            await google.colab.kernel.invokeFunction('convertToInteractive',\n",
              "                                                     [key], {});\n",
              "          if (!dataTable) return;\n",
              "\n",
              "          const docLinkHtml = 'Like what you see? Visit the ' +\n",
              "            '<a target=\"_blank\" href=https://colab.research.google.com/notebooks/data_table.ipynb>data table notebook</a>'\n",
              "            + ' to learn more about interactive tables.';\n",
              "          element.innerHTML = '';\n",
              "          dataTable['output_type'] = 'display_data';\n",
              "          await google.colab.output.renderOutput(dataTable, element);\n",
              "          const docLink = document.createElement('div');\n",
              "          docLink.innerHTML = docLinkHtml;\n",
              "          element.appendChild(docLink);\n",
              "        }\n",
              "      </script>\n",
              "    </div>\n",
              "  </div>\n",
              "  "
            ]
          },
          "metadata": {},
          "execution_count": 517
        }
      ]
    },
    {
      "cell_type": "markdown",
      "source": [
        "# References"
      ],
      "metadata": {
        "id": "rxvjQwSO6Ufg"
      }
    },
    {
      "cell_type": "markdown",
      "source": [
        "1. Statsmodels.tsa.statespace.sarimax.SARIMAX¶. statsmodels. (n.d.). Retrieved August 1, 2022, from https://www.statsmodels.org/dev/generated/statsmodels.tsa.statespace.sarimax.SARIMAX.html \n",
        "2. Apyori. PyPI. (n.d.). Retrieved August 1, 2022, from https://pypi.org/project/apyori/ \n",
        "3. Raschka, S. (n.d.). Fpgrowth - mlxtend. Retrieved August 1, 2022, from http://rasbt.github.io/mlxtend/user_guide/frequent_patterns/fpgrowth/ \n",
        "4. Statistical Data Visualization¶. seaborn. (n.d.). Retrieved August 1, 2022, from https://seaborn.pydata.org/ "
      ],
      "metadata": {
        "id": "E5P6Fqh56Wof"
      }
    }
  ],
  "metadata": {
    "colab": {
      "name": "Project_6409.ipynb",
      "provenance": [],
      "collapsed_sections": [],
      "toc_visible": true
    },
    "kernelspec": {
      "display_name": "Python 3",
      "name": "python3"
    },
    "language_info": {
      "name": "python"
    }
  },
  "nbformat": 4,
  "nbformat_minor": 0
}